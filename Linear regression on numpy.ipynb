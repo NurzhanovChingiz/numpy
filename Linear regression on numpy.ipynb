{
 "cells": [
  {
   "cell_type": "markdown",
   "id": "db5370b5",
   "metadata": {},
   "source": [
    "https://towardsdatascience.com/linear-regression-and-gradient-descent-using-only-numpy-53104a834f75"
   ]
  },
  {
   "cell_type": "markdown",
   "id": "1ee5e6dd",
   "metadata": {},
   "source": [
    "Research Linear regression using numpy"
   ]
  },
  {
   "cell_type": "markdown",
   "id": "6b9108d5",
   "metadata": {},
   "source": [
    "# Libs"
   ]
  },
  {
   "cell_type": "code",
   "execution_count": 1,
   "id": "cdb7b60d",
   "metadata": {
    "ExecuteTime": {
     "end_time": "2023-09-05T04:29:14.899293Z",
     "start_time": "2023-09-05T04:29:14.810811Z"
    }
   },
   "outputs": [],
   "source": [
    "\n",
    "import numpy as np"
   ]
  },
  {
   "cell_type": "markdown",
   "id": "b6ea0435",
   "metadata": {},
   "source": [
    "Create a random dataset with 5 features, and create randomly m and q that we will have to discover. "
   ]
  },
  {
   "cell_type": "code",
   "execution_count": 2,
   "id": "4eaa297a",
   "metadata": {
    "ExecuteTime": {
     "end_time": "2023-09-05T04:29:14.903793Z",
     "start_time": "2023-09-05T04:29:14.900215Z"
    }
   },
   "outputs": [],
   "source": [
    "X = np.random.rand(10000,5)\n",
    "m = np.random.randint(low = 1, high = 20,size = (5,1))  #parametri random tra low e high\n",
    "q = np.random.rand(1)\n",
    "# \"@\" symbol represents the matrix multiplication operation\n",
    "y = (X @ m) + q \n",
    "\n",
    "noise = np.random.randn(y.shape[0], y.shape[1])\n",
    "y = y + noise\n",
    "\n",
    "# X.shape, m.shape, q.shape, y.shape"
   ]
  },
  {
   "cell_type": "markdown",
   "id": "1d942ef6",
   "metadata": {},
   "source": [
    "We then need to add a feature of “1” concatenating it with the dataset we already have and also add q to the vector m."
   ]
  },
  {
   "cell_type": "code",
   "execution_count": 3,
   "id": "ecdda38d",
   "metadata": {
    "ExecuteTime": {
     "end_time": "2023-09-05T04:29:14.907610Z",
     "start_time": "2023-09-05T04:29:14.905255Z"
    }
   },
   "outputs": [],
   "source": [
    "X = np.concatenate([X , np.ones((X.shape[0],1))], axis = 1)\n",
    "m = np.concatenate([m,q.reshape(1,-1)],axis = 0)"
   ]
  },
  {
   "cell_type": "code",
   "execution_count": 4,
   "id": "b1162a29",
   "metadata": {
    "ExecuteTime": {
     "end_time": "2023-09-05T04:29:14.911179Z",
     "start_time": "2023-09-05T04:29:14.908460Z"
    }
   },
   "outputs": [],
   "source": [
    "def partial_derivative(X_batch, y_batch, m_stat):\n",
    "    y_pred = X_batch @ m_stat\n",
    "    n = len(X_batch)\n",
    "    \n",
    "    df_dm =  (-2/n) * (X_batch.T @ (y_batch - y_pred))\n",
    "    df_dm = df_dm.reshape(len(df_dm),-1)\n",
    "\n",
    "    return df_dm"
   ]
  },
  {
   "cell_type": "code",
   "execution_count": 5,
   "id": "419dc573",
   "metadata": {
    "ExecuteTime": {
     "end_time": "2023-09-05T04:29:14.915183Z",
     "start_time": "2023-09-05T04:29:14.912724Z"
    }
   },
   "outputs": [],
   "source": [
    "def mean_squared_error(X,y,m_stat):\n",
    "    y_pred = X @ m_stat\n",
    "    mse = np.sum(((y_pred - y)**2),axis = 0) / len(X)\n",
    "  \n",
    "    return mse"
   ]
  },
  {
   "cell_type": "code",
   "execution_count": 6,
   "id": "403d3544",
   "metadata": {
    "ExecuteTime": {
     "end_time": "2023-09-05T04:29:14.919148Z",
     "start_time": "2023-09-05T04:29:14.916032Z"
    }
   },
   "outputs": [],
   "source": [
    "def training(X, y, batch_size, lr, epochs):\n",
    "    \n",
    "    \n",
    "    for epoch in range(epochs):\n",
    "        \n",
    "\n",
    "        #random initial statistics\n",
    "        if epoch == 0:\n",
    "            m_stat = np.random.rand(X.shape[1],1)\n",
    "  \n",
    "        #shuffle X and y using same permutation\n",
    "        indices = np.arange(X.shape[0])\n",
    "        np.random.shuffle(indices)\n",
    "  \n",
    "        X = X[indices]\n",
    "        y = y[indices]\n",
    "  \n",
    "        #store comulative derivative\n",
    "        cumulative_derivative = np.zeros((X.shape[1],1))\n",
    "  \n",
    "        for batch in range(len(X)//batch_size):\n",
    "            start = batch*batch_size\n",
    "            stop = (batch*batch_size) + batch_size\n",
    "    \n",
    "            X_batch = X[start:stop]\n",
    "            y_batch = y[start:stop]\n",
    "            \n",
    "            #derivative\n",
    "            cumulative_derivative = cumulative_derivative + partial_derivative(X_batch, y_batch, m_stat)\n",
    "    \n",
    "            #updating rule\n",
    "            m_stat = m_stat - (lr*cumulative_derivative)\n",
    "      \n",
    "    print(f\"epoch: {epoch} ----> MSE: {mean_squared_error(X,y,m_stat)}\")\n",
    "        \n",
    "    return m_stat"
   ]
  },
  {
   "cell_type": "code",
   "execution_count": 7,
   "id": "875cacea",
   "metadata": {
    "ExecuteTime": {
     "end_time": "2023-09-05T04:29:15.979523Z",
     "start_time": "2023-09-05T04:29:14.920298Z"
    }
   },
   "outputs": [
    {
     "name": "stdout",
     "output_type": "stream",
     "text": [
      "epoch: 4999 ----> MSE: [0.99882239]\n"
     ]
    }
   ],
   "source": [
    "batch_size = 1024\n",
    "lr = 0.01\n",
    "epochs = 5000\n",
    "\n",
    "m_stat = training(X,y, batch_size,lr,epochs)"
   ]
  },
  {
   "cell_type": "code",
   "execution_count": 8,
   "id": "a50628fe",
   "metadata": {
    "ExecuteTime": {
     "end_time": "2023-09-05T04:29:15.984013Z",
     "start_time": "2023-09-05T04:29:15.980575Z"
    }
   },
   "outputs": [
    {
     "name": "stdout",
     "output_type": "stream",
     "text": [
      "[[14.99695402]\n",
      " [11.01957488]\n",
      " [17.95893943]\n",
      " [ 9.03028122]\n",
      " [ 6.03396655]\n",
      " [ 0.90775832]] \n",
      "\n",
      "[[15.        ]\n",
      " [11.        ]\n",
      " [18.        ]\n",
      " [ 9.        ]\n",
      " [ 6.        ]\n",
      " [ 0.93691247]]\n",
      "mse [0.00043447]\n",
      "[[38.94083709]\n",
      " [27.7264576 ]\n",
      " [34.57887695]\n",
      " [31.82001168]\n",
      " [33.24099434]]\n",
      "[[38.92518548]\n",
      " [27.68951496]\n",
      " [34.55670131]\n",
      " [31.78643017]\n",
      " [33.20151036]]\n"
     ]
    }
   ],
   "source": [
    "print(m_stat,\"\\n\")\n",
    "print(m)\n",
    "\n",
    "X_test = np.random.rand(500,5)\n",
    "X_test = np.concatenate([X_test,np.ones(shape = (500,1))] , axis = 1)\n",
    "y_test = X_test @ m\n",
    "\n",
    "y_preds = X_test @ m_stat\n",
    "mse = mean_squared_error(X_test, y_test, m_stat)\n",
    "\n",
    "print(\"mse\" , mse)\n",
    "\n",
    "print(y_test[:5])\n",
    "print(y_preds[:5])"
   ]
  },
  {
   "cell_type": "markdown",
   "id": "36b3a761",
   "metadata": {},
   "source": [
    "# Research"
   ]
  },
  {
   "cell_type": "code",
   "execution_count": 9,
   "id": "1da9484d",
   "metadata": {
    "ExecuteTime": {
     "end_time": "2023-09-05T04:29:15.988906Z",
     "start_time": "2023-09-05T04:29:15.984951Z"
    }
   },
   "outputs": [],
   "source": [
    "import numpy as np\n",
    "\n",
    "# Creating a random dataset\n",
    "X = np.random.rand(10000, 5)\n",
    "# Make y like linear regression formula y = y=mx+b\n",
    "y = X @ np.random.rand(5, 1) + np.random.rand(1)\n",
    "# Adding random noise to the y values\n",
    "# np.random.randn(y.shape[0], y.shape[1]) generates random numbers from a standard normal distribution\n",
    "# The shape of the noise matrix matches the shape of y, so it's added element-wise\n",
    "# This step simulates real-world variability and noise in the data\n",
    "y += np.random.randn(y.shape[0], y.shape[1])"
   ]
  },
  {
   "cell_type": "code",
   "execution_count": 10,
   "id": "d2c141bd",
   "metadata": {
    "ExecuteTime": {
     "end_time": "2023-09-05T04:29:15.991979Z",
     "start_time": "2023-09-05T04:29:15.989879Z"
    }
   },
   "outputs": [],
   "source": [
    "def partial_derivative(X_batch, y_batch, m_stat):\n",
    "    # Calculate predicted y values using the current coefficients\n",
    "    y_pred = X_batch @ m_stat\n",
    "    \n",
    "    # Calculate the number of samples in the batch\n",
    "    n = len(X_batch)\n",
    "    \n",
    "    # Compute the derivative of the Mean Squared Error (MSE) with respect to coefficients\n",
    "    # This is a vectorized operation using matrix multiplication\n",
    "    df_dm = (-2/n) * (X_batch.T @ (y_batch - y_pred))\n",
    "    \n",
    "    # Reshape the derivative vector into a column vector\n",
    "    df_dm = df_dm.reshape(len(df_dm), -1)\n",
    "    \n",
    "    # Return the computed derivative\n",
    "    return df_dm"
   ]
  },
  {
   "cell_type": "code",
   "execution_count": 11,
   "id": "cd4a4935",
   "metadata": {
    "ExecuteTime": {
     "end_time": "2023-09-05T04:29:15.995800Z",
     "start_time": "2023-09-05T04:29:15.992843Z"
    }
   },
   "outputs": [],
   "source": [
    "def mean_squared_error(X, y, m_stat):\n",
    "    # Calculate predicted y values using the current coefficients\n",
    "    y_pred = X @ m_stat\n",
    "    \n",
    "    # Calculate the Mean Squared Error (MSE)\n",
    "    mse = np.sum(((y_pred - y)**2), axis=0) / len(X)\n",
    "    return mse"
   ]
  },
  {
   "cell_type": "code",
   "execution_count": 12,
   "id": "ced97e3e",
   "metadata": {
    "ExecuteTime": {
     "end_time": "2023-09-05T04:29:16.003361Z",
     "start_time": "2023-09-05T04:29:15.998341Z"
    }
   },
   "outputs": [],
   "source": [
    "def training(X, y, batch_size, lr, epochs):\n",
    "    '''\n",
    "    Training loop\n",
    "    '''\n",
    "    for epoch in range(epochs):\n",
    "        # Initialize coefficients with random values at the beginning of training\n",
    "        if epoch == 0:\n",
    "            m_stat = np.random.rand(X.shape[1], 1)\n",
    "        # Create indices for shuffling the data\n",
    "        indices = np.arange(y.shape[0])\n",
    "        \n",
    "        # Shuffle the indices to randomize the order of samples\n",
    "        np.random.shuffle(indices)\n",
    "        \n",
    "        # Shuffle input features (X) and target values (y) based on the shuffled indices\n",
    "        X = X[indices]\n",
    "        y = y[indices]\n",
    "        \n",
    "        # Initialize a cumulative derivative vector with zeros\n",
    "        cumulative_derivative = np.zeros((X.shape[1], 1))\n",
    "        \n",
    "        # Divide the data into batches and update coefficients iteratively\n",
    "        for batch in range(len(X)//batch_size):\n",
    "            start = batch * batch_size\n",
    "            stop = (batch * batch_size) + batch_size\n",
    "            X_batch = X[start:stop]\n",
    "            y_batch = y[start:stop]\n",
    "            \n",
    "            # Compute the cumulative derivative for the batch using partial_derivative function\n",
    "            cumulative_derivative += partial_derivative(X_batch, y_batch, m_stat)\n",
    "            \n",
    "            # Update coefficients using the gradient descent update rule\n",
    "            m_stat = m_stat - (lr * cumulative_derivative)\n",
    "    \n",
    "    # Print epoch number and calculated Mean Squared Error (MSE) for monitoring\n",
    "    print(f\"epoch: {epoch} ----> MSE: {mean_squared_error(X, y, m_stat)}\")\n",
    "        \n",
    "    # Return the final coefficients after training\n",
    "    return m_stat\n"
   ]
  },
  {
   "cell_type": "code",
   "execution_count": 13,
   "id": "e0d59ada",
   "metadata": {
    "ExecuteTime": {
     "end_time": "2023-09-05T04:29:16.072145Z",
     "start_time": "2023-09-05T04:29:16.005245Z"
    }
   },
   "outputs": [
    {
     "name": "stdout",
     "output_type": "stream",
     "text": [
      "epoch: 199 ----> MSE: [1.03108303]\n",
      "Model Parameters:\n",
      " [[0.80974045]\n",
      " [1.27188573]\n",
      " [0.37484911]\n",
      " [0.90413796]\n",
      " [0.54658935]] \n",
      "\n",
      "Mean Squared Error: [1.12423096]\n",
      "True Labels:\n",
      " [[1.05659981]\n",
      " [1.54483571]\n",
      " [0.91242442]\n",
      " [1.34183903]\n",
      " [0.65907988]]\n",
      "Predicted Labels:\n",
      " [[2.35768864]\n",
      " [2.84482871]\n",
      " [2.64846054]\n",
      " [2.75034266]\n",
      " [1.21605543]]\n"
     ]
    }
   ],
   "source": [
    "batch_size = 1024\n",
    "lr = 0.01\n",
    "epochs = 200\n",
    "m_stat = training(X, y, batch_size, lr, epochs)\n",
    "# Testing the model\n",
    "X_test = np.random.rand(500, 5)\n",
    "y_test = X_test @ np.random.rand(5, 1)\n",
    "y_preds = X_test @ m_stat\n",
    "mse = mean_squared_error(X_test, y_test, m_stat)\n",
    "\n",
    "print(\"Model Parameters:\\n\", m_stat, \"\\n\")\n",
    "print(\"Mean Squared Error:\", mse)\n",
    "print(\"True Labels:\\n\", y_test[:5])\n",
    "print(\"Predicted Labels:\\n\", y_preds[:5])"
   ]
  },
  {
   "cell_type": "code",
   "execution_count": null,
   "id": "b4591672",
   "metadata": {},
   "outputs": [],
   "source": []
  }
 ],
 "metadata": {
  "hide_input": false,
  "kernelspec": {
   "display_name": "Python 3 (ipykernel)",
   "language": "python",
   "name": "python3"
  },
  "language_info": {
   "codemirror_mode": {
    "name": "ipython",
    "version": 3
   },
   "file_extension": ".py",
   "mimetype": "text/x-python",
   "name": "python",
   "nbconvert_exporter": "python",
   "pygments_lexer": "ipython3",
   "version": "3.10.8"
  },
  "toc": {
   "base_numbering": 1,
   "nav_menu": {},
   "number_sections": true,
   "sideBar": true,
   "skip_h1_title": false,
   "title_cell": "Table of Contents",
   "title_sidebar": "Contents",
   "toc_cell": false,
   "toc_position": {},
   "toc_section_display": true,
   "toc_window_display": false
  }
 },
 "nbformat": 4,
 "nbformat_minor": 5
}
