{
 "cells": [
  {
   "cell_type": "code",
   "execution_count": 1,
   "id": "a7278ad6",
   "metadata": {
    "ExecuteTime": {
     "end_time": "2023-11-02T14:53:44.166328Z",
     "start_time": "2023-11-02T14:53:43.842211Z"
    }
   },
   "outputs": [],
   "source": [
    "import numpy as np"
   ]
  },
  {
   "cell_type": "markdown",
   "id": "e6b4e0bd",
   "metadata": {},
   "source": [
    "# Time Wrapper"
   ]
  },
  {
   "cell_type": "code",
   "execution_count": 2,
   "id": "c1d099ad",
   "metadata": {
    "ExecuteTime": {
     "end_time": "2023-11-02T14:53:44.171420Z",
     "start_time": "2023-11-02T14:53:44.167343Z"
    }
   },
   "outputs": [],
   "source": [
    "import time\n",
    "from functools import wraps\n",
    "\n",
    "\n",
    "def timing_decorator(func):\n",
    "    @wraps(func)\n",
    "    def wrapper(*args, **kwargs):\n",
    "        total_execution_time = 0\n",
    "        iterations = 100000\n",
    "\n",
    "        for _ in range(iterations):\n",
    "            start_time = time.perf_counter()\n",
    "            result = func(*args, **kwargs)\n",
    "            end_time = time.perf_counter()\n",
    "            total_execution_time += (end_time - start_time)\n",
    "\n",
    "        average_execution_time = total_execution_time / iterations\n",
    "        print(\n",
    "            f'Average execution time over {iterations} iterations: {average_execution_time:.8f} seconds')\n",
    "\n",
    "        return result\n",
    "\n",
    "    return wrapper"
   ]
  },
  {
   "cell_type": "markdown",
   "id": "8f128a3d",
   "metadata": {},
   "source": [
    "## Mean|"
   ]
  },
  {
   "cell_type": "code",
   "execution_count": 3,
   "id": "1aade13a",
   "metadata": {
    "ExecuteTime": {
     "end_time": "2023-11-02T14:53:44.175991Z",
     "start_time": "2023-11-02T14:53:44.172946Z"
    }
   },
   "outputs": [],
   "source": [
    "@timing_decorator\n",
    "def custom_mean(x):\n",
    "    return np.sum(x)/x.size\n",
    "\n",
    "\n",
    "@timing_decorator\n",
    "def mean(x):\n",
    "    return np.mean(x)"
   ]
  },
  {
   "cell_type": "code",
   "execution_count": 4,
   "id": "78ef5630",
   "metadata": {
    "ExecuteTime": {
     "end_time": "2023-11-02T14:53:44.180059Z",
     "start_time": "2023-11-02T14:53:44.177510Z"
    }
   },
   "outputs": [],
   "source": [
    "arr = np.array([1, 2, 3, 4, 5, 6, 7, 8, 9, 10])"
   ]
  },
  {
   "cell_type": "code",
   "execution_count": null,
   "id": "93b5a69d",
   "metadata": {
    "ExecuteTime": {
     "start_time": "2023-11-02T14:53:43.815Z"
    },
    "scrolled": true
   },
   "outputs": [],
   "source": [
    "custom_mean(arr)"
   ]
  },
  {
   "cell_type": "code",
   "execution_count": null,
   "id": "6c3e9a6a",
   "metadata": {
    "ExecuteTime": {
     "start_time": "2023-11-02T14:53:43.817Z"
    }
   },
   "outputs": [],
   "source": [
    "mean(arr)"
   ]
  },
  {
   "cell_type": "markdown",
   "id": "465c1fe1",
   "metadata": {},
   "source": [
    "# Var"
   ]
  },
  {
   "cell_type": "code",
   "execution_count": null,
   "id": "e104f4b1",
   "metadata": {
    "ExecuteTime": {
     "start_time": "2023-11-02T14:53:43.818Z"
    }
   },
   "outputs": [],
   "source": [
    "def custom_mean(x):\n",
    "    return np.sum(x)/x.size"
   ]
  },
  {
   "cell_type": "code",
   "execution_count": null,
   "id": "026024ad",
   "metadata": {
    "ExecuteTime": {
     "start_time": "2023-11-02T14:53:43.819Z"
    }
   },
   "outputs": [],
   "source": [
    "@timing_decorator\n",
    "def custom_var(x):\n",
    "    mean_x = custom_mean(x)\n",
    "    return custom_mean(x**2) - mean_x**2\n",
    "\n",
    "\n",
    "@timing_decorator\n",
    "def custom_var_2(x):\n",
    "    return custom_mean(x**2) - custom_mean(x)**2\n",
    "\n",
    "\n",
    "@timing_decorator\n",
    "def custom_var_3(x):\n",
    "    return custom_mean(np.square(x-custom_mean(x)))\n",
    "\n",
    "\n",
    "@timing_decorator\n",
    "def var(x):\n",
    "    return np.var(x)"
   ]
  },
  {
   "cell_type": "code",
   "execution_count": null,
   "id": "6aa697c2",
   "metadata": {
    "ExecuteTime": {
     "start_time": "2023-11-02T14:53:43.820Z"
    }
   },
   "outputs": [],
   "source": [
    "@timing_decorator\n",
    "def custom_var_optimized(x):\n",
    "    x_squared_sum = np.sum(x**2)\n",
    "    x_sum = np.sum(x)\n",
    "    x_size = x.size\n",
    "    return (x_squared_sum / x_size) - (x_sum / x_size)**2"
   ]
  },
  {
   "cell_type": "code",
   "execution_count": null,
   "id": "37362b9f",
   "metadata": {
    "ExecuteTime": {
     "start_time": "2023-11-02T14:53:43.822Z"
    }
   },
   "outputs": [],
   "source": [
    "@timing_decorator\n",
    "def custom_unbias_var_optimized(x):\n",
    "    x_squared_sum = np.sum(x**2)\n",
    "    x_sum = np.sum(x)\n",
    "    x_size = x.size-1\n",
    "    return (x_squared_sum / x_size) - (x_sum / x_size)**2"
   ]
  },
  {
   "cell_type": "code",
   "execution_count": null,
   "id": "72a953a5",
   "metadata": {
    "ExecuteTime": {
     "start_time": "2023-11-02T14:53:43.823Z"
    }
   },
   "outputs": [],
   "source": [
    "custom_unbias_var_optimized(arr)"
   ]
  },
  {
   "cell_type": "code",
   "execution_count": null,
   "id": "db853171",
   "metadata": {
    "ExecuteTime": {
     "start_time": "2023-11-02T14:53:43.824Z"
    },
    "scrolled": true
   },
   "outputs": [],
   "source": [
    "custom_var(arr)"
   ]
  },
  {
   "cell_type": "code",
   "execution_count": null,
   "id": "255048dc",
   "metadata": {
    "ExecuteTime": {
     "start_time": "2023-11-02T14:53:43.825Z"
    }
   },
   "outputs": [],
   "source": [
    "custom_var_optimized(arr)"
   ]
  },
  {
   "cell_type": "code",
   "execution_count": null,
   "id": "4fb067ce",
   "metadata": {
    "ExecuteTime": {
     "start_time": "2023-11-02T14:53:43.826Z"
    }
   },
   "outputs": [],
   "source": [
    "custom_var_2(arr)"
   ]
  },
  {
   "cell_type": "code",
   "execution_count": null,
   "id": "4666a6e1",
   "metadata": {
    "ExecuteTime": {
     "start_time": "2023-11-02T14:53:43.827Z"
    }
   },
   "outputs": [],
   "source": [
    "custom_var_3(arr)"
   ]
  },
  {
   "cell_type": "code",
   "execution_count": null,
   "id": "9ed5c2ba",
   "metadata": {
    "ExecuteTime": {
     "start_time": "2023-11-02T14:53:43.828Z"
    }
   },
   "outputs": [],
   "source": [
    "var(arr)"
   ]
  },
  {
   "cell_type": "markdown",
   "id": "b8b4b447",
   "metadata": {},
   "source": [
    "# Std"
   ]
  },
  {
   "cell_type": "code",
   "execution_count": null,
   "id": "0879c0d6",
   "metadata": {
    "ExecuteTime": {
     "start_time": "2023-11-02T14:53:43.829Z"
    }
   },
   "outputs": [],
   "source": [
    "def custom_var_optimized(x):\n",
    "    x_squared_sum = np.sum(x**2)\n",
    "    x_sum = np.sum(x)\n",
    "    x_size = x.size-1\n",
    "    return (x_squared_sum / x_size) - (x_sum / x_size)**2"
   ]
  },
  {
   "cell_type": "code",
   "execution_count": null,
   "id": "64769158",
   "metadata": {
    "ExecuteTime": {
     "start_time": "2023-11-02T14:53:43.830Z"
    }
   },
   "outputs": [],
   "source": [
    "@timing_decorator\n",
    "def custom_std(x):\n",
    "    return np.sqrt(custom_var_optimized(x))\n",
    "\n",
    "\n",
    "@timing_decorator\n",
    "def std(x):\n",
    "    return np.std(x)"
   ]
  },
  {
   "cell_type": "code",
   "execution_count": null,
   "id": "24e12c92",
   "metadata": {
    "ExecuteTime": {
     "start_time": "2023-11-02T14:53:43.831Z"
    }
   },
   "outputs": [],
   "source": [
    "std(arr)"
   ]
  },
  {
   "cell_type": "code",
   "execution_count": null,
   "id": "45bb61b8",
   "metadata": {
    "ExecuteTime": {
     "start_time": "2023-11-02T14:53:43.832Z"
    }
   },
   "outputs": [],
   "source": [
    "custom_std(arr)"
   ]
  },
  {
   "cell_type": "markdown",
   "id": "546d3f35",
   "metadata": {},
   "source": [
    "# Median"
   ]
  },
  {
   "cell_type": "code",
   "execution_count": null,
   "id": "9134d374",
   "metadata": {
    "ExecuteTime": {
     "start_time": "2023-11-02T14:53:43.833Z"
    }
   },
   "outputs": [],
   "source": [
    "@timing_decorator\n",
    "def custom_median(x):\n",
    "    x_sort = np.sort(x)\n",
    "    n = x.size\n",
    "    if n%2 == 1:\n",
    "        return x_sort[n//2]\n",
    "    else:\n",
    "        m1 = x_sort[n//2]\n",
    "        m2 = x_sort[n//2-1]\n",
    "        return (m1+m2)/2"
   ]
  },
  {
   "cell_type": "code",
   "execution_count": null,
   "id": "f0485810",
   "metadata": {
    "ExecuteTime": {
     "start_time": "2023-11-02T14:53:43.834Z"
    }
   },
   "outputs": [],
   "source": [
    "@timing_decorator\n",
    "def median(x):\n",
    "    return np.median(x)"
   ]
  },
  {
   "cell_type": "code",
   "execution_count": null,
   "id": "91d532b1",
   "metadata": {
    "ExecuteTime": {
     "start_time": "2023-11-02T14:53:43.835Z"
    }
   },
   "outputs": [],
   "source": [
    "median(arr)"
   ]
  },
  {
   "cell_type": "code",
   "execution_count": null,
   "id": "ee5f3e6c",
   "metadata": {
    "ExecuteTime": {
     "start_time": "2023-11-02T14:53:43.836Z"
    }
   },
   "outputs": [],
   "source": [
    "custom_median(arr)"
   ]
  },
  {
   "cell_type": "markdown",
   "id": "6f7ef8f1",
   "metadata": {},
   "source": [
    "# Mode"
   ]
  },
  {
   "cell_type": "code",
   "execution_count": null,
   "id": "575f6fe6",
   "metadata": {
    "ExecuteTime": {
     "start_time": "2023-11-02T14:53:43.836Z"
    }
   },
   "outputs": [],
   "source": [
    "@timing_decorator\n",
    "def custom_mode(x):\n",
    "\n",
    "    assert len(x.shape) == 1\n",
    "\n",
    "    counts = np.bincount(x)\n",
    "\n",
    "    mode_value = np.argmax(counts)\n",
    "\n",
    "    return mode_value"
   ]
  },
  {
   "cell_type": "code",
   "execution_count": null,
   "id": "619deb89",
   "metadata": {
    "ExecuteTime": {
     "start_time": "2023-11-02T14:53:43.837Z"
    }
   },
   "outputs": [],
   "source": [
    "from scipy import stats\n",
    "\n",
    "@timing_decorator\n",
    "def mode(x):\n",
    "    return stats.mode(x)"
   ]
  },
  {
   "cell_type": "code",
   "execution_count": null,
   "id": "e849e74a",
   "metadata": {
    "ExecuteTime": {
     "start_time": "2023-11-02T14:53:43.838Z"
    }
   },
   "outputs": [],
   "source": [
    "# mode(arr)"
   ]
  },
  {
   "cell_type": "code",
   "execution_count": null,
   "id": "2df679fd",
   "metadata": {
    "ExecuteTime": {
     "start_time": "2023-11-02T14:53:43.839Z"
    }
   },
   "outputs": [],
   "source": [
    "custom_mode(arr)"
   ]
  },
  {
   "cell_type": "markdown",
   "id": "3d8ceb0a",
   "metadata": {},
   "source": [
    "# Percentile"
   ]
  },
  {
   "cell_type": "code",
   "execution_count": null,
   "id": "91f47c86",
   "metadata": {
    "ExecuteTime": {
     "start_time": "2023-11-02T14:53:43.840Z"
    }
   },
   "outputs": [],
   "source": [
    "# @timing_decorator\n",
    "def custom_percentile(x, percentile):\n",
    "    # Step 1: Sorting the data\n",
    "    x_sort = np.sort(x)  \n",
    "    \n",
    "    # Step 2: Finding the index of the percentile value\n",
    "    index = (percentile / 100) * (x_sort.size - 1)  \n",
    "    \n",
    "    # Step 3: Interpolating to get the percentile value\n",
    "    lower = np.floor(index).astype(int)  # Finding the lower index\n",
    "    upper = np.ceil(index).astype(int)   # Finding the upper index\n",
    "    if lower == upper:  # If index is an integer\n",
    "        return x_sort[lower]  # Return the value at index\n",
    "    else:\n",
    "        # Interpolate between the values at the lower and upper indices\n",
    "        return x_sort[lower] + (x_sort[upper] - x_sort[lower]) * (index - lower)\n"
   ]
  },
  {
   "cell_type": "code",
   "execution_count": null,
   "id": "7f57124d",
   "metadata": {
    "ExecuteTime": {
     "start_time": "2023-11-02T14:53:43.841Z"
    }
   },
   "outputs": [],
   "source": [
    "@timing_decorator\n",
    "def percentile(x, percentile):\n",
    "    return np.percentile(x, percentile)"
   ]
  },
  {
   "cell_type": "code",
   "execution_count": null,
   "id": "7ea524fe",
   "metadata": {
    "ExecuteTime": {
     "start_time": "2023-11-02T14:53:43.842Z"
    }
   },
   "outputs": [],
   "source": [
    "custom_percentile(arr, percentile=20)"
   ]
  },
  {
   "cell_type": "code",
   "execution_count": null,
   "id": "a13cbacd",
   "metadata": {
    "ExecuteTime": {
     "start_time": "2023-11-02T14:53:43.843Z"
    }
   },
   "outputs": [],
   "source": [
    "percentile(arr, percentile=20)"
   ]
  },
  {
   "cell_type": "markdown",
   "id": "836a6095",
   "metadata": {},
   "source": [
    "# Covariance "
   ]
  },
  {
   "cell_type": "code",
   "execution_count": null,
   "id": "24312e19",
   "metadata": {
    "ExecuteTime": {
     "start_time": "2023-11-02T14:53:43.844Z"
    }
   },
   "outputs": [],
   "source": [
    "arr1 = np.array([1, 2, 3, 4, 5])\n",
    "arr2 = np.array([6, 7, 8, 9, 10])"
   ]
  },
  {
   "cell_type": "code",
   "execution_count": null,
   "id": "1df23cda",
   "metadata": {
    "ExecuteTime": {
     "start_time": "2023-11-02T14:53:43.845Z"
    }
   },
   "outputs": [],
   "source": [
    "def custom_mean(x):\n",
    "    return np.sum(x) / x.size\n",
    "\n",
    "def custom_var(x):\n",
    "    mean_x = custom_mean(x)\n",
    "    return np.sum((x - mean_x)**2) / (x.size - 1)\n",
    "@timing_decorator\n",
    "def custom_cov(x, y):\n",
    "    mean_x = custom_mean(x)\n",
    "    mean_y = custom_mean(y)\n",
    "    cov_xy = np.sum((x - mean_x) * (y - mean_y)) / (x.size - 1)\n",
    "    var_x = custom_var(x)\n",
    "    var_y = custom_var(y)\n",
    "    cov_matrix = np.array([[var_x, cov_xy], [cov_xy, var_y]])\n",
    "    return cov_matrix"
   ]
  },
  {
   "cell_type": "code",
   "execution_count": null,
   "id": "e10df8fc",
   "metadata": {
    "ExecuteTime": {
     "start_time": "2023-11-02T14:53:43.846Z"
    }
   },
   "outputs": [],
   "source": [
    "@timing_decorator\n",
    "def cov(x,y):\n",
    "    return np.cov(x ,y)"
   ]
  },
  {
   "cell_type": "code",
   "execution_count": null,
   "id": "beea62e9",
   "metadata": {
    "ExecuteTime": {
     "start_time": "2023-11-02T14:53:43.847Z"
    }
   },
   "outputs": [],
   "source": [
    "custom_cov_matrix(arr1, arr2)"
   ]
  },
  {
   "cell_type": "code",
   "execution_count": null,
   "id": "bedcdcc0",
   "metadata": {
    "ExecuteTime": {
     "start_time": "2023-11-02T14:53:43.848Z"
    }
   },
   "outputs": [],
   "source": [
    "custom_cov(arr1, arr2)"
   ]
  },
  {
   "cell_type": "code",
   "execution_count": null,
   "id": "0b828f72",
   "metadata": {
    "ExecuteTime": {
     "start_time": "2023-11-02T14:53:43.849Z"
    }
   },
   "outputs": [],
   "source": [
    "cov(arr1, arr2)"
   ]
  },
  {
   "cell_type": "code",
   "execution_count": null,
   "id": "836ff3a3",
   "metadata": {},
   "outputs": [],
   "source": []
  },
  {
   "cell_type": "code",
   "execution_count": null,
   "id": "16c92f42",
   "metadata": {},
   "outputs": [],
   "source": []
  }
 ],
 "metadata": {
  "hide_input": false,
  "kernelspec": {
   "display_name": "Python 3 (ipykernel)",
   "language": "python",
   "name": "python3"
  },
  "language_info": {
   "codemirror_mode": {
    "name": "ipython",
    "version": 3
   },
   "file_extension": ".py",
   "mimetype": "text/x-python",
   "name": "python",
   "nbconvert_exporter": "python",
   "pygments_lexer": "ipython3",
   "version": "3.11.5"
  },
  "toc": {
   "base_numbering": 1,
   "nav_menu": {},
   "number_sections": true,
   "sideBar": true,
   "skip_h1_title": false,
   "title_cell": "Table of Contents",
   "title_sidebar": "Contents",
   "toc_cell": false,
   "toc_position": {},
   "toc_section_display": true,
   "toc_window_display": false
  }
 },
 "nbformat": 4,
 "nbformat_minor": 5
}
