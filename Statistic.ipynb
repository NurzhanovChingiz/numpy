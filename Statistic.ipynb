{
 "cells": [
  {
   "cell_type": "code",
   "execution_count": 1,
   "id": "816e6f73",
   "metadata": {
    "ExecuteTime": {
     "end_time": "2023-10-28T17:35:27.653449Z",
     "start_time": "2023-10-28T17:35:27.551856Z"
    }
   },
   "outputs": [],
   "source": [
    "import numpy as np"
   ]
  },
  {
   "cell_type": "markdown",
   "id": "e01eaede",
   "metadata": {},
   "source": [
    "# Time Wrapper"
   ]
  },
  {
   "cell_type": "code",
   "execution_count": 2,
   "id": "bc513524",
   "metadata": {
    "ExecuteTime": {
     "end_time": "2023-10-28T17:35:27.658535Z",
     "start_time": "2023-10-28T17:35:27.654470Z"
    }
   },
   "outputs": [],
   "source": [
    "import time\n",
    "from functools import wraps\n",
    "\n",
    "\n",
    "def timing_decorator(func):\n",
    "    @wraps(func)\n",
    "    def wrapper(*args, **kwargs):\n",
    "        total_execution_time = 0\n",
    "        iterations = 100000\n",
    "\n",
    "        for _ in range(iterations):\n",
    "            start_time = time.perf_counter()\n",
    "            result = func(*args, **kwargs)\n",
    "            end_time = time.perf_counter()\n",
    "            total_execution_time += (end_time - start_time)\n",
    "\n",
    "        average_execution_time = total_execution_time / iterations\n",
    "        print(\n",
    "            f'Average execution time over {iterations} iterations: {average_execution_time:.8f} seconds')\n",
    "\n",
    "        return result\n",
    "\n",
    "    return wrapper"
   ]
  },
  {
   "cell_type": "markdown",
   "id": "754f2d3c",
   "metadata": {},
   "source": [
    "## Mean|"
   ]
  },
  {
   "cell_type": "code",
   "execution_count": 3,
   "id": "2099f7c6",
   "metadata": {
    "ExecuteTime": {
     "end_time": "2023-10-28T17:35:27.663609Z",
     "start_time": "2023-10-28T17:35:27.660559Z"
    }
   },
   "outputs": [],
   "source": [
    "@timing_decorator\n",
    "def custom_mean(x):\n",
    "    return np.sum(x)/x.size\n",
    "\n",
    "\n",
    "@timing_decorator\n",
    "def mean(x):\n",
    "    return np.mean(x)"
   ]
  },
  {
   "cell_type": "code",
   "execution_count": 4,
   "id": "53949caf",
   "metadata": {
    "ExecuteTime": {
     "end_time": "2023-10-28T17:35:27.668190Z",
     "start_time": "2023-10-28T17:35:27.665129Z"
    }
   },
   "outputs": [],
   "source": [
    "arr = np.array([1, 2, 3, 4, 5, 6, 7, 8, 9, 10])"
   ]
  },
  {
   "cell_type": "code",
   "execution_count": 5,
   "id": "95a2410a",
   "metadata": {
    "ExecuteTime": {
     "end_time": "2023-10-28T17:35:27.969787Z",
     "start_time": "2023-10-28T17:35:27.669203Z"
    }
   },
   "outputs": [
    {
     "name": "stdout",
     "output_type": "stream",
     "text": [
      "Average execution time over 100000 iterations: 0.00000282 seconds\n"
     ]
    },
    {
     "data": {
      "text/plain": [
       "5.5"
      ]
     },
     "execution_count": 5,
     "metadata": {},
     "output_type": "execute_result"
    }
   ],
   "source": [
    "custom_mean(arr)"
   ]
  },
  {
   "cell_type": "code",
   "execution_count": 6,
   "id": "e138b79e",
   "metadata": {
    "ExecuteTime": {
     "end_time": "2023-10-28T17:35:28.432321Z",
     "start_time": "2023-10-28T17:35:27.971310Z"
    }
   },
   "outputs": [
    {
     "name": "stdout",
     "output_type": "stream",
     "text": [
      "Average execution time over 100000 iterations: 0.00000445 seconds\n"
     ]
    },
    {
     "data": {
      "text/plain": [
       "5.5"
      ]
     },
     "execution_count": 6,
     "metadata": {},
     "output_type": "execute_result"
    }
   ],
   "source": [
    "mean(arr)"
   ]
  },
  {
   "cell_type": "markdown",
   "id": "932ec76c",
   "metadata": {},
   "source": [
    "# Var"
   ]
  },
  {
   "cell_type": "code",
   "execution_count": 7,
   "id": "1d898efb",
   "metadata": {
    "ExecuteTime": {
     "end_time": "2023-10-28T17:35:28.436380Z",
     "start_time": "2023-10-28T17:35:28.433334Z"
    }
   },
   "outputs": [],
   "source": [
    "def custom_mean(x):\n",
    "    return np.sum(x)/x.size"
   ]
  },
  {
   "cell_type": "code",
   "execution_count": 8,
   "id": "e35a25f0",
   "metadata": {
    "ExecuteTime": {
     "end_time": "2023-10-28T17:35:28.441453Z",
     "start_time": "2023-10-28T17:35:28.437902Z"
    }
   },
   "outputs": [],
   "source": [
    "@timing_decorator\n",
    "def custom_var(x):\n",
    "    mean_x = custom_mean(x)\n",
    "    return custom_mean(x**2) - mean_x**2\n",
    "\n",
    "\n",
    "@timing_decorator\n",
    "def custom_var_2(x):\n",
    "    return custom_mean(x**2) - custom_mean(x)**2\n",
    "\n",
    "\n",
    "@timing_decorator\n",
    "def custom_var_3(x):\n",
    "    return custom_mean(np.square(x-custom_mean(x)))\n",
    "\n",
    "\n",
    "@timing_decorator\n",
    "def var(x):\n",
    "    return np.var(x)"
   ]
  },
  {
   "cell_type": "code",
   "execution_count": 9,
   "id": "4eaeb1f9",
   "metadata": {
    "ExecuteTime": {
     "end_time": "2023-10-28T17:35:28.446023Z",
     "start_time": "2023-10-28T17:35:28.442970Z"
    }
   },
   "outputs": [],
   "source": [
    "@timing_decorator\n",
    "def custom_var_optimized(x):\n",
    "    x_squared_sum = np.sum(x**2)\n",
    "    x_sum = np.sum(x)\n",
    "    x_size = x.size\n",
    "    return (x_squared_sum / x_size) - (x_sum / x_size)**2"
   ]
  },
  {
   "cell_type": "code",
   "execution_count": 10,
   "id": "54df9702",
   "metadata": {
    "ExecuteTime": {
     "end_time": "2023-10-28T17:35:28.450597Z",
     "start_time": "2023-10-28T17:35:28.447033Z"
    }
   },
   "outputs": [],
   "source": [
    "@timing_decorator\n",
    "def custom_unbias_var_optimized(x):\n",
    "    x_squared_sum = np.sum(x**2)\n",
    "    x_sum = np.sum(x)\n",
    "    x_size = x.size-1\n",
    "    return (x_squared_sum / x_size) - (x_sum / x_size)**2"
   ]
  },
  {
   "cell_type": "code",
   "execution_count": 11,
   "id": "1d2e438e",
   "metadata": {
    "ExecuteTime": {
     "end_time": "2023-10-28T17:35:29.095686Z",
     "start_time": "2023-10-28T17:35:28.452114Z"
    }
   },
   "outputs": [
    {
     "name": "stdout",
     "output_type": "stream",
     "text": [
      "Average execution time over 100000 iterations: 0.00000628 seconds\n"
     ]
    },
    {
     "data": {
      "text/plain": [
       "5.432098765432102"
      ]
     },
     "execution_count": 11,
     "metadata": {},
     "output_type": "execute_result"
    }
   ],
   "source": [
    "custom_unbias_var_optimized(arr)"
   ]
  },
  {
   "cell_type": "code",
   "execution_count": 12,
   "id": "c9936d78",
   "metadata": {
    "ExecuteTime": {
     "end_time": "2023-10-28T17:35:29.747290Z",
     "start_time": "2023-10-28T17:35:29.098741Z"
    },
    "scrolled": true
   },
   "outputs": [
    {
     "name": "stdout",
     "output_type": "stream",
     "text": [
      "Average execution time over 100000 iterations: 0.00000633 seconds\n"
     ]
    },
    {
     "data": {
      "text/plain": [
       "8.25"
      ]
     },
     "execution_count": 12,
     "metadata": {},
     "output_type": "execute_result"
    }
   ],
   "source": [
    "custom_var(arr)"
   ]
  },
  {
   "cell_type": "code",
   "execution_count": 13,
   "id": "e8df6bec",
   "metadata": {
    "ExecuteTime": {
     "end_time": "2023-10-28T17:35:30.386270Z",
     "start_time": "2023-10-28T17:35:29.748810Z"
    }
   },
   "outputs": [
    {
     "name": "stdout",
     "output_type": "stream",
     "text": [
      "Average execution time over 100000 iterations: 0.00000622 seconds\n"
     ]
    },
    {
     "data": {
      "text/plain": [
       "8.25"
      ]
     },
     "execution_count": 13,
     "metadata": {},
     "output_type": "execute_result"
    }
   ],
   "source": [
    "custom_var_optimized(arr)"
   ]
  },
  {
   "cell_type": "code",
   "execution_count": 14,
   "id": "c3866f5c",
   "metadata": {
    "ExecuteTime": {
     "end_time": "2023-10-28T17:35:31.038635Z",
     "start_time": "2023-10-28T17:35:30.387793Z"
    }
   },
   "outputs": [
    {
     "name": "stdout",
     "output_type": "stream",
     "text": [
      "Average execution time over 100000 iterations: 0.00000634 seconds\n"
     ]
    },
    {
     "data": {
      "text/plain": [
       "8.25"
      ]
     },
     "execution_count": 14,
     "metadata": {},
     "output_type": "execute_result"
    }
   ],
   "source": [
    "custom_var_2(arr)"
   ]
  },
  {
   "cell_type": "code",
   "execution_count": 15,
   "id": "1e0e6d18",
   "metadata": {
    "ExecuteTime": {
     "end_time": "2023-10-28T17:35:31.818377Z",
     "start_time": "2023-10-28T17:35:31.040157Z"
    }
   },
   "outputs": [
    {
     "name": "stdout",
     "output_type": "stream",
     "text": [
      "Average execution time over 100000 iterations: 0.00000763 seconds\n"
     ]
    },
    {
     "data": {
      "text/plain": [
       "8.25"
      ]
     },
     "execution_count": 15,
     "metadata": {},
     "output_type": "execute_result"
    }
   ],
   "source": [
    "custom_var_3(arr)"
   ]
  },
  {
   "cell_type": "code",
   "execution_count": 16,
   "id": "5b2b8ce8",
   "metadata": {
    "ExecuteTime": {
     "end_time": "2023-10-28T17:35:33.379673Z",
     "start_time": "2023-10-28T17:35:31.819397Z"
    }
   },
   "outputs": [
    {
     "name": "stdout",
     "output_type": "stream",
     "text": [
      "Average execution time over 100000 iterations: 0.00001542 seconds\n"
     ]
    },
    {
     "data": {
      "text/plain": [
       "8.25"
      ]
     },
     "execution_count": 16,
     "metadata": {},
     "output_type": "execute_result"
    }
   ],
   "source": [
    "var(arr)"
   ]
  },
  {
   "cell_type": "markdown",
   "id": "c57c8e1b",
   "metadata": {},
   "source": [
    "# Std"
   ]
  },
  {
   "cell_type": "code",
   "execution_count": 17,
   "id": "7240a2cd",
   "metadata": {
    "ExecuteTime": {
     "end_time": "2023-10-28T17:35:33.384253Z",
     "start_time": "2023-10-28T17:35:33.381202Z"
    }
   },
   "outputs": [],
   "source": [
    "def custom_var_optimized(x):\n",
    "    x_squared_sum = np.sum(x**2)\n",
    "    x_sum = np.sum(x)\n",
    "    x_size = x.size-1\n",
    "    return (x_squared_sum / x_size) - (x_sum / x_size)**2"
   ]
  },
  {
   "cell_type": "code",
   "execution_count": 18,
   "id": "eab648fb",
   "metadata": {
    "ExecuteTime": {
     "end_time": "2023-10-28T17:35:33.388815Z",
     "start_time": "2023-10-28T17:35:33.385263Z"
    }
   },
   "outputs": [],
   "source": [
    "@timing_decorator\n",
    "def custom_std(x):\n",
    "    return np.sqrt(custom_var_optimized(x))\n",
    "\n",
    "\n",
    "@timing_decorator\n",
    "def std(x):\n",
    "    return np.std(x)"
   ]
  },
  {
   "cell_type": "code",
   "execution_count": 19,
   "id": "529e434e",
   "metadata": {
    "ExecuteTime": {
     "end_time": "2023-10-28T17:35:35.101868Z",
     "start_time": "2023-10-28T17:35:33.390337Z"
    }
   },
   "outputs": [
    {
     "name": "stdout",
     "output_type": "stream",
     "text": [
      "Average execution time over 100000 iterations: 0.00001692 seconds\n"
     ]
    },
    {
     "data": {
      "text/plain": [
       "2.8722813232690143"
      ]
     },
     "execution_count": 19,
     "metadata": {},
     "output_type": "execute_result"
    }
   ],
   "source": [
    "std(arr)"
   ]
  },
  {
   "cell_type": "code",
   "execution_count": 20,
   "id": "ecfb99f5",
   "metadata": {
    "ExecuteTime": {
     "end_time": "2023-10-28T17:35:35.826288Z",
     "start_time": "2023-10-28T17:35:35.103399Z"
    }
   },
   "outputs": [
    {
     "name": "stdout",
     "output_type": "stream",
     "text": [
      "Average execution time over 100000 iterations: 0.00000707 seconds\n"
     ]
    },
    {
     "data": {
      "text/plain": [
       "2.330686329267004"
      ]
     },
     "execution_count": 20,
     "metadata": {},
     "output_type": "execute_result"
    }
   ],
   "source": [
    "custom_std(arr)"
   ]
  },
  {
   "cell_type": "markdown",
   "id": "b63d2abf",
   "metadata": {},
   "source": [
    "# Median"
   ]
  },
  {
   "cell_type": "code",
   "execution_count": 21,
   "id": "92c818aa",
   "metadata": {
    "ExecuteTime": {
     "end_time": "2023-10-28T17:35:35.830355Z",
     "start_time": "2023-10-28T17:35:35.827299Z"
    }
   },
   "outputs": [],
   "source": [
    "@timing_decorator\n",
    "def custom_median(x):\n",
    "    x_sort = np.sort(x)\n",
    "    n = x.size\n",
    "    if n%2 == 1:\n",
    "        return x_sort[n//2]\n",
    "    else:\n",
    "        m1 = x_sort[n//2]\n",
    "        m2 = x_sort[n//2-1]\n",
    "        return (m1+m2)/2"
   ]
  },
  {
   "cell_type": "code",
   "execution_count": 22,
   "id": "c8719b49",
   "metadata": {
    "ExecuteTime": {
     "end_time": "2023-10-28T17:35:35.834406Z",
     "start_time": "2023-10-28T17:35:35.831875Z"
    }
   },
   "outputs": [],
   "source": [
    "@timing_decorator\n",
    "def median(x):\n",
    "    return np.median(x)"
   ]
  },
  {
   "cell_type": "code",
   "execution_count": 23,
   "id": "da4166d5",
   "metadata": {
    "ExecuteTime": {
     "end_time": "2023-10-28T17:35:36.910114Z",
     "start_time": "2023-10-28T17:35:35.835929Z"
    }
   },
   "outputs": [
    {
     "name": "stdout",
     "output_type": "stream",
     "text": [
      "Average execution time over 100000 iterations: 0.00001057 seconds\n"
     ]
    },
    {
     "data": {
      "text/plain": [
       "5.5"
      ]
     },
     "execution_count": 23,
     "metadata": {},
     "output_type": "execute_result"
    }
   ],
   "source": [
    "median(arr)"
   ]
  },
  {
   "cell_type": "code",
   "execution_count": 24,
   "id": "79c0b5b4",
   "metadata": {
    "ExecuteTime": {
     "end_time": "2023-10-28T17:35:37.077410Z",
     "start_time": "2023-10-28T17:35:36.911636Z"
    }
   },
   "outputs": [
    {
     "name": "stdout",
     "output_type": "stream",
     "text": [
      "Average execution time over 100000 iterations: 0.00000152 seconds\n"
     ]
    },
    {
     "data": {
      "text/plain": [
       "5.5"
      ]
     },
     "execution_count": 24,
     "metadata": {},
     "output_type": "execute_result"
    }
   ],
   "source": [
    "custom_median(arr)"
   ]
  },
  {
   "cell_type": "markdown",
   "id": "06861aaa",
   "metadata": {},
   "source": [
    "# Mode"
   ]
  },
  {
   "cell_type": "code",
   "execution_count": 25,
   "id": "8286cfda",
   "metadata": {
    "ExecuteTime": {
     "end_time": "2023-10-28T17:35:37.081486Z",
     "start_time": "2023-10-28T17:35:37.078433Z"
    }
   },
   "outputs": [],
   "source": [
    "@timing_decorator\n",
    "def custom_mode(x):\n",
    "\n",
    "    assert len(x.shape) == 1\n",
    "\n",
    "    counts = np.bincount(x)\n",
    "\n",
    "    mode_value = np.argmax(counts)\n",
    "\n",
    "    return mode_value"
   ]
  },
  {
   "cell_type": "code",
   "execution_count": 26,
   "id": "2476635c",
   "metadata": {
    "ExecuteTime": {
     "end_time": "2023-10-28T17:35:37.498827Z",
     "start_time": "2023-10-28T17:35:37.082495Z"
    }
   },
   "outputs": [],
   "source": [
    "from scipy import stats\n",
    "\n",
    "@timing_decorator\n",
    "def mode(x):\n",
    "    return stats.mode(x)"
   ]
  },
  {
   "cell_type": "code",
   "execution_count": 27,
   "id": "85d1c477",
   "metadata": {
    "ExecuteTime": {
     "end_time": "2023-10-28T17:35:37.502889Z",
     "start_time": "2023-10-28T17:35:37.500346Z"
    }
   },
   "outputs": [],
   "source": [
    "# mode(arr)"
   ]
  },
  {
   "cell_type": "code",
   "execution_count": 28,
   "id": "93b0d5b4",
   "metadata": {
    "ExecuteTime": {
     "end_time": "2023-10-28T17:35:37.756822Z",
     "start_time": "2023-10-28T17:35:37.504912Z"
    }
   },
   "outputs": [
    {
     "name": "stdout",
     "output_type": "stream",
     "text": [
      "Average execution time over 100000 iterations: 0.00000237 seconds\n"
     ]
    },
    {
     "data": {
      "text/plain": [
       "1"
      ]
     },
     "execution_count": 28,
     "metadata": {},
     "output_type": "execute_result"
    }
   ],
   "source": [
    "custom_mode(arr)"
   ]
  },
  {
   "cell_type": "markdown",
   "id": "17d2400c",
   "metadata": {},
   "source": [
    "# Percentile"
   ]
  },
  {
   "cell_type": "code",
   "execution_count": 29,
   "id": "9e272683",
   "metadata": {
    "ExecuteTime": {
     "end_time": "2023-10-28T17:35:37.761899Z",
     "start_time": "2023-10-28T17:35:37.758340Z"
    }
   },
   "outputs": [],
   "source": [
    "# @timing_decorator\n",
    "def custom_percentile(x, percentile):\n",
    "    # Step 1: Sorting the data\n",
    "    x_sort = np.sort(x)  \n",
    "    \n",
    "    # Step 2: Finding the index of the percentile value\n",
    "    index = (percentile / 100) * (x_sort.size - 1)  \n",
    "    \n",
    "    # Step 3: Interpolating to get the percentile value\n",
    "    lower = np.floor(index).astype(int)  # Finding the lower index\n",
    "    upper = np.ceil(index).astype(int)   # Finding the upper index\n",
    "    if lower == upper:  # If index is an integer\n",
    "        return x_sort[lower]  # Return the value at index\n",
    "    else:\n",
    "        # Interpolate between the values at the lower and upper indices\n",
    "        return x_sort[lower] + (x_sort[upper] - x_sort[lower]) * (index - lower)\n"
   ]
  },
  {
   "cell_type": "code",
   "execution_count": 30,
   "id": "0d05243e",
   "metadata": {
    "ExecuteTime": {
     "end_time": "2023-10-28T17:35:37.765960Z",
     "start_time": "2023-10-28T17:35:37.763426Z"
    }
   },
   "outputs": [],
   "source": [
    "@timing_decorator\n",
    "def percentile(x, percentile):\n",
    "    return np.percentile(x, percentile)"
   ]
  },
  {
   "cell_type": "code",
   "execution_count": 31,
   "id": "e71f7d9b",
   "metadata": {
    "ExecuteTime": {
     "end_time": "2023-10-28T17:35:37.770544Z",
     "start_time": "2023-10-28T17:35:37.766975Z"
    }
   },
   "outputs": [
    {
     "data": {
      "text/plain": [
       "2.8"
      ]
     },
     "execution_count": 31,
     "metadata": {},
     "output_type": "execute_result"
    }
   ],
   "source": [
    "custom_percentile(arr, percentile=20)"
   ]
  },
  {
   "cell_type": "code",
   "execution_count": 32,
   "id": "9a24d967",
   "metadata": {
    "ExecuteTime": {
     "end_time": "2023-10-28T17:35:44.098815Z",
     "start_time": "2023-10-28T17:35:37.772066Z"
    }
   },
   "outputs": [
    {
     "name": "stdout",
     "output_type": "stream",
     "text": [
      "Average execution time over 100000 iterations: 0.00006295 seconds\n"
     ]
    },
    {
     "data": {
      "text/plain": [
       "2.8"
      ]
     },
     "execution_count": 32,
     "metadata": {},
     "output_type": "execute_result"
    }
   ],
   "source": [
    "percentile(arr, percentile=20)"
   ]
  }
 ],
 "metadata": {
  "hide_input": false,
  "kernelspec": {
   "display_name": "Python 3 (ipykernel)",
   "language": "python",
   "name": "python3"
  },
  "language_info": {
   "codemirror_mode": {
    "name": "ipython",
    "version": 3
   },
   "file_extension": ".py",
   "mimetype": "text/x-python",
   "name": "python",
   "nbconvert_exporter": "python",
   "pygments_lexer": "ipython3",
   "version": "3.11.5"
  },
  "toc": {
   "base_numbering": 1,
   "nav_menu": {},
   "number_sections": true,
   "sideBar": true,
   "skip_h1_title": false,
   "title_cell": "Table of Contents",
   "title_sidebar": "Contents",
   "toc_cell": false,
   "toc_position": {},
   "toc_section_display": true,
   "toc_window_display": false
  }
 },
 "nbformat": 4,
 "nbformat_minor": 5
}
