{
 "cells": [
  {
   "cell_type": "code",
   "execution_count": 1,
   "id": "a7278ad6",
   "metadata": {
    "ExecuteTime": {
     "end_time": "2023-11-03T16:18:46.981763Z",
     "start_time": "2023-11-03T16:18:46.907483Z"
    }
   },
   "outputs": [],
   "source": [
    "import numpy as np"
   ]
  },
  {
   "cell_type": "markdown",
   "id": "e6b4e0bd",
   "metadata": {},
   "source": [
    "# Time Wrapper"
   ]
  },
  {
   "cell_type": "code",
   "execution_count": 2,
   "id": "c1d099ad",
   "metadata": {
    "ExecuteTime": {
     "end_time": "2023-11-03T16:18:47.193920Z",
     "start_time": "2023-11-03T16:18:47.189854Z"
    }
   },
   "outputs": [],
   "source": [
    "import time\n",
    "from functools import wraps\n",
    "\n",
    "\n",
    "def timing_decorator(func):\n",
    "    @wraps(func)\n",
    "    def wrapper(*args, **kwargs):\n",
    "        total_execution_time = 0\n",
    "        iterations = 100000\n",
    "\n",
    "        for _ in range(iterations):\n",
    "            start_time = time.perf_counter()\n",
    "            result = func(*args, **kwargs)\n",
    "            end_time = time.perf_counter()\n",
    "            total_execution_time += (end_time - start_time)\n",
    "\n",
    "        average_execution_time = total_execution_time / iterations\n",
    "        print(\n",
    "            f'Average execution time over {iterations} iterations: {average_execution_time:.8f} seconds')\n",
    "\n",
    "        return result\n",
    "\n",
    "    return wrapper"
   ]
  },
  {
   "cell_type": "markdown",
   "id": "8f128a3d",
   "metadata": {},
   "source": [
    "## Mean|"
   ]
  },
  {
   "cell_type": "code",
   "execution_count": 3,
   "id": "1aade13a",
   "metadata": {
    "ExecuteTime": {
     "end_time": "2023-11-03T16:18:47.258514Z",
     "start_time": "2023-11-03T16:18:47.255461Z"
    }
   },
   "outputs": [],
   "source": [
    "@timing_decorator\n",
    "def custom_mean(x):\n",
    "    return np.sum(x)/x.size\n",
    "\n",
    "\n",
    "@timing_decorator\n",
    "def mean(x):\n",
    "    return np.mean(x)"
   ]
  },
  {
   "cell_type": "code",
   "execution_count": 4,
   "id": "78ef5630",
   "metadata": {
    "ExecuteTime": {
     "end_time": "2023-11-03T16:18:47.291551Z",
     "start_time": "2023-11-03T16:18:47.288512Z"
    }
   },
   "outputs": [],
   "source": [
    "arr = np.array([1, 2, 3, 4, 5, 6, 7, 8, 9, 10])"
   ]
  },
  {
   "cell_type": "code",
   "execution_count": 5,
   "id": "93b5a69d",
   "metadata": {
    "ExecuteTime": {
     "end_time": "2023-11-03T16:18:47.652585Z",
     "start_time": "2023-11-03T16:18:47.321038Z"
    },
    "scrolled": true
   },
   "outputs": [
    {
     "name": "stdout",
     "output_type": "stream",
     "text": [
      "Average execution time over 100000 iterations: 0.00000313 seconds\n"
     ]
    },
    {
     "data": {
      "text/plain": [
       "5.5"
      ]
     },
     "execution_count": 5,
     "metadata": {},
     "output_type": "execute_result"
    }
   ],
   "source": [
    "custom_mean(arr)"
   ]
  },
  {
   "cell_type": "code",
   "execution_count": 6,
   "id": "6c3e9a6a",
   "metadata": {
    "ExecuteTime": {
     "end_time": "2023-11-03T16:18:48.146074Z",
     "start_time": "2023-11-03T16:18:47.654110Z"
    }
   },
   "outputs": [
    {
     "name": "stdout",
     "output_type": "stream",
     "text": [
      "Average execution time over 100000 iterations: 0.00000475 seconds\n"
     ]
    },
    {
     "data": {
      "text/plain": [
       "5.5"
      ]
     },
     "execution_count": 6,
     "metadata": {},
     "output_type": "execute_result"
    }
   ],
   "source": [
    "mean(arr)"
   ]
  },
  {
   "cell_type": "markdown",
   "id": "465c1fe1",
   "metadata": {},
   "source": [
    "# Var"
   ]
  },
  {
   "cell_type": "code",
   "execution_count": 7,
   "id": "e104f4b1",
   "metadata": {
    "ExecuteTime": {
     "end_time": "2023-11-03T16:18:48.150152Z",
     "start_time": "2023-11-03T16:18:48.147101Z"
    }
   },
   "outputs": [],
   "source": [
    "def custom_mean(x):\n",
    "    return np.sum(x)/x.size"
   ]
  },
  {
   "cell_type": "code",
   "execution_count": 8,
   "id": "026024ad",
   "metadata": {
    "ExecuteTime": {
     "end_time": "2023-11-03T16:18:48.155244Z",
     "start_time": "2023-11-03T16:18:48.151682Z"
    }
   },
   "outputs": [],
   "source": [
    "@timing_decorator\n",
    "def custom_var(x):\n",
    "    mean_x = custom_mean(x)\n",
    "    return custom_mean(x**2) - mean_x**2\n",
    "\n",
    "\n",
    "@timing_decorator\n",
    "def custom_var_2(x):\n",
    "    return custom_mean(x**2) - custom_mean(x)**2\n",
    "\n",
    "\n",
    "@timing_decorator\n",
    "def custom_var_3(x):\n",
    "    return custom_mean(np.square(x-custom_mean(x)))\n",
    "\n",
    "\n",
    "@timing_decorator\n",
    "def var(x):\n",
    "    return np.var(x)"
   ]
  },
  {
   "cell_type": "code",
   "execution_count": 9,
   "id": "6aa697c2",
   "metadata": {
    "ExecuteTime": {
     "end_time": "2023-11-03T16:18:48.159292Z",
     "start_time": "2023-11-03T16:18:48.156259Z"
    }
   },
   "outputs": [],
   "source": [
    "@timing_decorator\n",
    "def custom_var_optimized(x):\n",
    "    x_squared_sum = np.sum(x**2)\n",
    "    x_sum = np.sum(x)\n",
    "    x_size = x.size\n",
    "    return (x_squared_sum / x_size) - (x_sum / x_size)**2"
   ]
  },
  {
   "cell_type": "code",
   "execution_count": 10,
   "id": "37362b9f",
   "metadata": {
    "ExecuteTime": {
     "end_time": "2023-11-03T16:18:48.166913Z",
     "start_time": "2023-11-03T16:18:48.160311Z"
    }
   },
   "outputs": [],
   "source": [
    "@timing_decorator\n",
    "def custom_unbias_var_optimized(x):\n",
    "    x_squared_sum = np.sum(x**2)\n",
    "    x_sum = np.sum(x)\n",
    "    x_size = x.size-1\n",
    "    return (x_squared_sum / x_size) - (x_sum / x_size)**2"
   ]
  },
  {
   "cell_type": "code",
   "execution_count": 11,
   "id": "72a953a5",
   "metadata": {
    "ExecuteTime": {
     "end_time": "2023-11-03T16:18:48.865364Z",
     "start_time": "2023-11-03T16:18:48.168440Z"
    }
   },
   "outputs": [
    {
     "name": "stdout",
     "output_type": "stream",
     "text": [
      "Average execution time over 100000 iterations: 0.00000680 seconds\n"
     ]
    },
    {
     "data": {
      "text/plain": [
       "5.432098765432102"
      ]
     },
     "execution_count": 11,
     "metadata": {},
     "output_type": "execute_result"
    }
   ],
   "source": [
    "custom_unbias_var_optimized(arr)"
   ]
  },
  {
   "cell_type": "code",
   "execution_count": 12,
   "id": "db853171",
   "metadata": {
    "ExecuteTime": {
     "end_time": "2023-11-03T16:18:49.570628Z",
     "start_time": "2023-11-03T16:18:48.866383Z"
    },
    "scrolled": true
   },
   "outputs": [
    {
     "name": "stdout",
     "output_type": "stream",
     "text": [
      "Average execution time over 100000 iterations: 0.00000688 seconds\n"
     ]
    },
    {
     "data": {
      "text/plain": [
       "8.25"
      ]
     },
     "execution_count": 12,
     "metadata": {},
     "output_type": "execute_result"
    }
   ],
   "source": [
    "custom_var(arr)"
   ]
  },
  {
   "cell_type": "code",
   "execution_count": 13,
   "id": "255048dc",
   "metadata": {
    "ExecuteTime": {
     "end_time": "2023-11-03T16:18:50.253535Z",
     "start_time": "2023-11-03T16:18:49.572152Z"
    }
   },
   "outputs": [
    {
     "name": "stdout",
     "output_type": "stream",
     "text": [
      "Average execution time over 100000 iterations: 0.00000665 seconds\n"
     ]
    },
    {
     "data": {
      "text/plain": [
       "8.25"
      ]
     },
     "execution_count": 13,
     "metadata": {},
     "output_type": "execute_result"
    }
   ],
   "source": [
    "custom_var_optimized(arr)"
   ]
  },
  {
   "cell_type": "code",
   "execution_count": 14,
   "id": "4fb067ce",
   "metadata": {
    "ExecuteTime": {
     "end_time": "2023-11-03T16:18:50.946393Z",
     "start_time": "2023-11-03T16:18:50.256077Z"
    }
   },
   "outputs": [
    {
     "name": "stdout",
     "output_type": "stream",
     "text": [
      "Average execution time over 100000 iterations: 0.00000674 seconds\n"
     ]
    },
    {
     "data": {
      "text/plain": [
       "8.25"
      ]
     },
     "execution_count": 14,
     "metadata": {},
     "output_type": "execute_result"
    }
   ],
   "source": [
    "custom_var_2(arr)"
   ]
  },
  {
   "cell_type": "code",
   "execution_count": 15,
   "id": "4666a6e1",
   "metadata": {
    "ExecuteTime": {
     "end_time": "2023-11-03T16:18:51.762590Z",
     "start_time": "2023-11-03T16:18:50.947413Z"
    }
   },
   "outputs": [
    {
     "name": "stdout",
     "output_type": "stream",
     "text": [
      "Average execution time over 100000 iterations: 0.00000797 seconds\n"
     ]
    },
    {
     "data": {
      "text/plain": [
       "8.25"
      ]
     },
     "execution_count": 15,
     "metadata": {},
     "output_type": "execute_result"
    }
   ],
   "source": [
    "custom_var_3(arr)"
   ]
  },
  {
   "cell_type": "code",
   "execution_count": 16,
   "id": "9ed5c2ba",
   "metadata": {
    "ExecuteTime": {
     "end_time": "2023-11-03T16:18:53.394426Z",
     "start_time": "2023-11-03T16:18:51.763604Z"
    }
   },
   "outputs": [
    {
     "name": "stdout",
     "output_type": "stream",
     "text": [
      "Average execution time over 100000 iterations: 0.00001610 seconds\n"
     ]
    },
    {
     "data": {
      "text/plain": [
       "8.25"
      ]
     },
     "execution_count": 16,
     "metadata": {},
     "output_type": "execute_result"
    }
   ],
   "source": [
    "var(arr)"
   ]
  },
  {
   "cell_type": "markdown",
   "id": "b8b4b447",
   "metadata": {},
   "source": [
    "# Std"
   ]
  },
  {
   "cell_type": "code",
   "execution_count": 17,
   "id": "0879c0d6",
   "metadata": {
    "ExecuteTime": {
     "end_time": "2023-11-03T16:18:53.398500Z",
     "start_time": "2023-11-03T16:18:53.395446Z"
    }
   },
   "outputs": [],
   "source": [
    "def custom_var_optimized(x):\n",
    "    x_squared_sum = np.sum(x**2)\n",
    "    x_sum = np.sum(x)\n",
    "    x_size = x.size-1\n",
    "    return (x_squared_sum / x_size) - (x_sum / x_size)**2"
   ]
  },
  {
   "cell_type": "code",
   "execution_count": 18,
   "id": "64769158",
   "metadata": {
    "ExecuteTime": {
     "end_time": "2023-11-03T16:18:53.403072Z",
     "start_time": "2023-11-03T16:18:53.399517Z"
    }
   },
   "outputs": [],
   "source": [
    "@timing_decorator\n",
    "def custom_std(x):\n",
    "    return np.sqrt(custom_var_optimized(x))\n",
    "\n",
    "\n",
    "@timing_decorator\n",
    "def std(x):\n",
    "    return np.std(x)"
   ]
  },
  {
   "cell_type": "code",
   "execution_count": 19,
   "id": "24e12c92",
   "metadata": {
    "ExecuteTime": {
     "end_time": "2023-11-03T16:18:55.186643Z",
     "start_time": "2023-11-03T16:18:53.404588Z"
    }
   },
   "outputs": [
    {
     "name": "stdout",
     "output_type": "stream",
     "text": [
      "Average execution time over 100000 iterations: 0.00001762 seconds\n"
     ]
    },
    {
     "data": {
      "text/plain": [
       "2.8722813232690143"
      ]
     },
     "execution_count": 19,
     "metadata": {},
     "output_type": "execute_result"
    }
   ],
   "source": [
    "std(arr)"
   ]
  },
  {
   "cell_type": "code",
   "execution_count": 20,
   "id": "45bb61b8",
   "metadata": {
    "ExecuteTime": {
     "end_time": "2023-11-03T16:18:55.958065Z",
     "start_time": "2023-11-03T16:18:55.188172Z"
    }
   },
   "outputs": [
    {
     "name": "stdout",
     "output_type": "stream",
     "text": [
      "Average execution time over 100000 iterations: 0.00000753 seconds\n"
     ]
    },
    {
     "data": {
      "text/plain": [
       "2.330686329267004"
      ]
     },
     "execution_count": 20,
     "metadata": {},
     "output_type": "execute_result"
    }
   ],
   "source": [
    "custom_std(arr)"
   ]
  },
  {
   "cell_type": "markdown",
   "id": "546d3f35",
   "metadata": {},
   "source": [
    "# Median"
   ]
  },
  {
   "cell_type": "code",
   "execution_count": 21,
   "id": "9134d374",
   "metadata": {
    "ExecuteTime": {
     "end_time": "2023-11-03T16:18:55.962646Z",
     "start_time": "2023-11-03T16:18:55.959592Z"
    }
   },
   "outputs": [],
   "source": [
    "@timing_decorator\n",
    "def custom_median(x):\n",
    "    x_sort = np.sort(x)\n",
    "    n = x.size\n",
    "    if n%2 == 1:\n",
    "        return x_sort[n//2]\n",
    "    else:\n",
    "        m1 = x_sort[n//2]\n",
    "        m2 = x_sort[n//2-1]\n",
    "        return (m1+m2)/2"
   ]
  },
  {
   "cell_type": "code",
   "execution_count": 22,
   "id": "f0485810",
   "metadata": {
    "ExecuteTime": {
     "end_time": "2023-11-03T16:18:55.966699Z",
     "start_time": "2023-11-03T16:18:55.964162Z"
    }
   },
   "outputs": [],
   "source": [
    "@timing_decorator\n",
    "def median(x):\n",
    "    return np.median(x)"
   ]
  },
  {
   "cell_type": "code",
   "execution_count": 23,
   "id": "91d532b1",
   "metadata": {
    "ExecuteTime": {
     "end_time": "2023-11-03T16:18:57.059002Z",
     "start_time": "2023-11-03T16:18:55.968224Z"
    }
   },
   "outputs": [
    {
     "name": "stdout",
     "output_type": "stream",
     "text": [
      "Average execution time over 100000 iterations: 0.00001073 seconds\n"
     ]
    },
    {
     "data": {
      "text/plain": [
       "5.5"
      ]
     },
     "execution_count": 23,
     "metadata": {},
     "output_type": "execute_result"
    }
   ],
   "source": [
    "median(arr)"
   ]
  },
  {
   "cell_type": "code",
   "execution_count": 24,
   "id": "ee5f3e6c",
   "metadata": {
    "ExecuteTime": {
     "end_time": "2023-11-03T16:18:57.224318Z",
     "start_time": "2023-11-03T16:18:57.060021Z"
    }
   },
   "outputs": [
    {
     "name": "stdout",
     "output_type": "stream",
     "text": [
      "Average execution time over 100000 iterations: 0.00000151 seconds\n"
     ]
    },
    {
     "data": {
      "text/plain": [
       "5.5"
      ]
     },
     "execution_count": 24,
     "metadata": {},
     "output_type": "execute_result"
    }
   ],
   "source": [
    "custom_median(arr)"
   ]
  },
  {
   "cell_type": "markdown",
   "id": "6f7ef8f1",
   "metadata": {},
   "source": [
    "# Mode"
   ]
  },
  {
   "cell_type": "code",
   "execution_count": 25,
   "id": "575f6fe6",
   "metadata": {
    "ExecuteTime": {
     "end_time": "2023-11-03T16:18:57.228891Z",
     "start_time": "2023-11-03T16:18:57.225838Z"
    }
   },
   "outputs": [],
   "source": [
    "@timing_decorator\n",
    "def custom_mode(x):\n",
    "\n",
    "    assert len(x.shape) == 1\n",
    "\n",
    "    counts = np.bincount(x)\n",
    "\n",
    "    mode_value = np.argmax(counts)\n",
    "\n",
    "    return mode_value"
   ]
  },
  {
   "cell_type": "code",
   "execution_count": 26,
   "id": "619deb89",
   "metadata": {
    "ExecuteTime": {
     "end_time": "2023-11-03T16:18:57.602663Z",
     "start_time": "2023-11-03T16:18:57.230426Z"
    }
   },
   "outputs": [],
   "source": [
    "from scipy import stats\n",
    "\n",
    "@timing_decorator\n",
    "def mode(x):\n",
    "    return stats.mode(x)"
   ]
  },
  {
   "cell_type": "code",
   "execution_count": 27,
   "id": "e849e74a",
   "metadata": {
    "ExecuteTime": {
     "end_time": "2023-11-03T16:19:17.563762Z",
     "start_time": "2023-11-03T16:18:57.604191Z"
    }
   },
   "outputs": [
    {
     "name": "stdout",
     "output_type": "stream",
     "text": [
      "Average execution time over 100000 iterations: 0.00019912 seconds\n"
     ]
    },
    {
     "data": {
      "text/plain": [
       "ModeResult(mode=1, count=1)"
      ]
     },
     "execution_count": 27,
     "metadata": {},
     "output_type": "execute_result"
    }
   ],
   "source": [
    "mode(arr)"
   ]
  },
  {
   "cell_type": "code",
   "execution_count": 28,
   "id": "2df679fd",
   "metadata": {
    "ExecuteTime": {
     "end_time": "2023-11-03T16:19:17.810296Z",
     "start_time": "2023-11-03T16:19:17.565296Z"
    }
   },
   "outputs": [
    {
     "name": "stdout",
     "output_type": "stream",
     "text": [
      "Average execution time over 100000 iterations: 0.00000230 seconds\n"
     ]
    },
    {
     "data": {
      "text/plain": [
       "1"
      ]
     },
     "execution_count": 28,
     "metadata": {},
     "output_type": "execute_result"
    }
   ],
   "source": [
    "custom_mode(arr)"
   ]
  },
  {
   "cell_type": "markdown",
   "id": "3d8ceb0a",
   "metadata": {},
   "source": [
    "# Percentile"
   ]
  },
  {
   "cell_type": "code",
   "execution_count": 29,
   "id": "91f47c86",
   "metadata": {
    "ExecuteTime": {
     "end_time": "2023-11-03T16:19:17.816388Z",
     "start_time": "2023-11-03T16:19:17.811312Z"
    }
   },
   "outputs": [],
   "source": [
    "# @timing_decorator\n",
    "def custom_percentile(x, percentile):\n",
    "    # Step 1: Sorting the data\n",
    "    x_sort = np.sort(x)  \n",
    "    \n",
    "    # Step 2: Finding the index of the percentile value\n",
    "    index = (percentile / 100) * (x_sort.size - 1)  \n",
    "    \n",
    "    # Step 3: Interpolating to get the percentile value\n",
    "    lower = np.floor(index).astype(int)  # Finding the lower index\n",
    "    upper = np.ceil(index).astype(int)   # Finding the upper index\n",
    "    if lower == upper:  # If index is an integer\n",
    "        return x_sort[lower]  # Return the value at index\n",
    "    else:\n",
    "        # Interpolate between the values at the lower and upper indices\n",
    "        return x_sort[lower] + (x_sort[upper] - x_sort[lower]) * (index - lower)\n"
   ]
  },
  {
   "cell_type": "code",
   "execution_count": 30,
   "id": "7f57124d",
   "metadata": {
    "ExecuteTime": {
     "end_time": "2023-11-03T16:19:17.820453Z",
     "start_time": "2023-11-03T16:19:17.817906Z"
    }
   },
   "outputs": [],
   "source": [
    "@timing_decorator\n",
    "def percentile(x, percentile):\n",
    "    return np.percentile(x, percentile)"
   ]
  },
  {
   "cell_type": "code",
   "execution_count": 31,
   "id": "7ea524fe",
   "metadata": {
    "ExecuteTime": {
     "end_time": "2023-11-03T16:19:17.825541Z",
     "start_time": "2023-11-03T16:19:17.821985Z"
    }
   },
   "outputs": [
    {
     "data": {
      "text/plain": [
       "2.8"
      ]
     },
     "execution_count": 31,
     "metadata": {},
     "output_type": "execute_result"
    }
   ],
   "source": [
    "custom_percentile(arr, percentile=20)"
   ]
  },
  {
   "cell_type": "code",
   "execution_count": 32,
   "id": "a13cbacd",
   "metadata": {
    "ExecuteTime": {
     "end_time": "2023-11-03T16:19:24.110272Z",
     "start_time": "2023-11-03T16:19:17.829605Z"
    }
   },
   "outputs": [
    {
     "name": "stdout",
     "output_type": "stream",
     "text": [
      "Average execution time over 100000 iterations: 0.00006250 seconds\n"
     ]
    },
    {
     "data": {
      "text/plain": [
       "2.8"
      ]
     },
     "execution_count": 32,
     "metadata": {},
     "output_type": "execute_result"
    }
   ],
   "source": [
    "percentile(arr, percentile=20)"
   ]
  },
  {
   "cell_type": "markdown",
   "id": "836a6095",
   "metadata": {},
   "source": [
    "# Covariance "
   ]
  },
  {
   "cell_type": "code",
   "execution_count": 33,
   "id": "24312e19",
   "metadata": {
    "ExecuteTime": {
     "end_time": "2023-11-03T16:19:24.114349Z",
     "start_time": "2023-11-03T16:19:24.111802Z"
    }
   },
   "outputs": [],
   "source": [
    "arr1 = np.array([1, 2, 3, 4, 5])\n",
    "arr2 = np.array([6, 7, 8, 9, 10])"
   ]
  },
  {
   "cell_type": "code",
   "execution_count": 34,
   "id": "1df23cda",
   "metadata": {
    "ExecuteTime": {
     "end_time": "2023-11-03T16:19:24.120448Z",
     "start_time": "2023-11-03T16:19:24.115872Z"
    }
   },
   "outputs": [],
   "source": [
    "def custom_mean(x):\n",
    "    return np.sum(x) / x.size\n",
    "\n",
    "def custom_var(x):\n",
    "    mean_x = custom_mean(x)\n",
    "    return np.sum((x - mean_x)**2) / (x.size - 1)\n",
    "@timing_decorator\n",
    "def custom_cov(x, y):\n",
    "    mean_x = custom_mean(x)\n",
    "    mean_y = custom_mean(y)\n",
    "    cov_xy = np.sum((x - mean_x) * (y - mean_y)) / (x.size - 1)\n",
    "    var_x = custom_var(x)\n",
    "    var_y = custom_var(y)\n",
    "    cov_matrix = np.array([[var_x, cov_xy], [cov_xy, var_y]])\n",
    "    return cov_matrix"
   ]
  },
  {
   "cell_type": "code",
   "execution_count": 35,
   "id": "e10df8fc",
   "metadata": {
    "ExecuteTime": {
     "end_time": "2023-11-03T16:19:24.124505Z",
     "start_time": "2023-11-03T16:19:24.121461Z"
    }
   },
   "outputs": [],
   "source": [
    "@timing_decorator\n",
    "def cov(x,y):\n",
    "    return np.cov(x ,y)"
   ]
  },
  {
   "cell_type": "code",
   "execution_count": 36,
   "id": "bedcdcc0",
   "metadata": {
    "ExecuteTime": {
     "end_time": "2023-11-03T16:19:26.838486Z",
     "start_time": "2023-11-03T16:19:24.126025Z"
    }
   },
   "outputs": [
    {
     "name": "stdout",
     "output_type": "stream",
     "text": [
      "Average execution time over 100000 iterations: 0.00002695 seconds\n"
     ]
    },
    {
     "data": {
      "text/plain": [
       "array([[2.5, 2.5],\n",
       "       [2.5, 2.5]])"
      ]
     },
     "execution_count": 36,
     "metadata": {},
     "output_type": "execute_result"
    }
   ],
   "source": [
    "custom_cov(arr1, arr2)"
   ]
  },
  {
   "cell_type": "code",
   "execution_count": 37,
   "id": "0b828f72",
   "metadata": {
    "ExecuteTime": {
     "end_time": "2023-11-03T16:19:30.176041Z",
     "start_time": "2023-11-03T16:19:26.840009Z"
    }
   },
   "outputs": [
    {
     "name": "stdout",
     "output_type": "stream",
     "text": [
      "Average execution time over 100000 iterations: 0.00003306 seconds\n"
     ]
    },
    {
     "data": {
      "text/plain": [
       "array([[2.5, 2.5],\n",
       "       [2.5, 2.5]])"
      ]
     },
     "execution_count": 37,
     "metadata": {},
     "output_type": "execute_result"
    }
   ],
   "source": [
    "cov(arr1, arr2)"
   ]
  }
 ],
 "metadata": {
  "hide_input": false,
  "kernelspec": {
   "display_name": "Python 3 (ipykernel)",
   "language": "python",
   "name": "python3"
  },
  "language_info": {
   "codemirror_mode": {
    "name": "ipython",
    "version": 3
   },
   "file_extension": ".py",
   "mimetype": "text/x-python",
   "name": "python",
   "nbconvert_exporter": "python",
   "pygments_lexer": "ipython3",
   "version": "3.11.5"
  },
  "toc": {
   "base_numbering": 1,
   "nav_menu": {},
   "number_sections": true,
   "sideBar": true,
   "skip_h1_title": false,
   "title_cell": "Table of Contents",
   "title_sidebar": "Contents",
   "toc_cell": false,
   "toc_position": {},
   "toc_section_display": true,
   "toc_window_display": false
  }
 },
 "nbformat": 4,
 "nbformat_minor": 5
}
