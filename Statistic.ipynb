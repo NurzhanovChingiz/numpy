{
 "cells": [
  {
   "cell_type": "code",
   "execution_count": 1,
   "id": "a7278ad6",
   "metadata": {
    "ExecuteTime": {
     "end_time": "2023-11-03T16:30:53.919465Z",
     "start_time": "2023-11-03T16:30:53.843675Z"
    }
   },
   "outputs": [],
   "source": [
    "import numpy as np"
   ]
  },
  {
   "cell_type": "markdown",
   "id": "e6b4e0bd",
   "metadata": {},
   "source": [
    "# Time Wrapper"
   ]
  },
  {
   "cell_type": "code",
   "execution_count": 2,
   "id": "c1d099ad",
   "metadata": {
    "ExecuteTime": {
     "end_time": "2023-11-03T16:30:54.130695Z",
     "start_time": "2023-11-03T16:30:54.126619Z"
    }
   },
   "outputs": [],
   "source": [
    "import time\n",
    "from functools import wraps\n",
    "\n",
    "\n",
    "def timing_decorator(func):\n",
    "    @wraps(func)\n",
    "    def wrapper(*args, **kwargs):\n",
    "        total_execution_time = 0\n",
    "        iterations = 100000\n",
    "\n",
    "        for _ in range(iterations):\n",
    "            start_time = time.perf_counter()\n",
    "            result = func(*args, **kwargs)\n",
    "            end_time = time.perf_counter()\n",
    "            total_execution_time += (end_time - start_time)\n",
    "\n",
    "        average_execution_time = total_execution_time / iterations\n",
    "        print(\n",
    "            f'Average execution time over {iterations} iterations: {average_execution_time:.8f} seconds')\n",
    "\n",
    "        return result\n",
    "\n",
    "    return wrapper"
   ]
  },
  {
   "cell_type": "markdown",
   "id": "8f128a3d",
   "metadata": {},
   "source": [
    "## Mean|"
   ]
  },
  {
   "cell_type": "code",
   "execution_count": 3,
   "id": "1aade13a",
   "metadata": {
    "ExecuteTime": {
     "end_time": "2023-11-03T16:30:54.194736Z",
     "start_time": "2023-11-03T16:30:54.192196Z"
    }
   },
   "outputs": [],
   "source": [
    "@timing_decorator\n",
    "def custom_mean(x):\n",
    "    return np.sum(x)/x.size\n",
    "\n",
    "\n",
    "@timing_decorator\n",
    "def mean(x):\n",
    "    return np.mean(x)"
   ]
  },
  {
   "cell_type": "code",
   "execution_count": 4,
   "id": "78ef5630",
   "metadata": {
    "ExecuteTime": {
     "end_time": "2023-11-03T16:30:54.227771Z",
     "start_time": "2023-11-03T16:30:54.225223Z"
    }
   },
   "outputs": [],
   "source": [
    "arr = np.array([1, 2, 3, 4, 5, 6, 7, 8, 9, 10])"
   ]
  },
  {
   "cell_type": "code",
   "execution_count": 5,
   "id": "93b5a69d",
   "metadata": {
    "ExecuteTime": {
     "end_time": "2023-11-03T16:30:54.557072Z",
     "start_time": "2023-11-03T16:30:54.258233Z"
    },
    "scrolled": true
   },
   "outputs": [
    {
     "name": "stdout",
     "output_type": "stream",
     "text": [
      "Average execution time over 100000 iterations: 0.00000280 seconds\n"
     ]
    },
    {
     "data": {
      "text/plain": [
       "5.5"
      ]
     },
     "execution_count": 5,
     "metadata": {},
     "output_type": "execute_result"
    }
   ],
   "source": [
    "custom_mean(arr)"
   ]
  },
  {
   "cell_type": "code",
   "execution_count": 6,
   "id": "6c3e9a6a",
   "metadata": {
    "ExecuteTime": {
     "end_time": "2023-11-03T16:30:55.029668Z",
     "start_time": "2023-11-03T16:30:54.558603Z"
    }
   },
   "outputs": [
    {
     "name": "stdout",
     "output_type": "stream",
     "text": [
      "Average execution time over 100000 iterations: 0.00000455 seconds\n"
     ]
    },
    {
     "data": {
      "text/plain": [
       "5.5"
      ]
     },
     "execution_count": 6,
     "metadata": {},
     "output_type": "execute_result"
    }
   ],
   "source": [
    "mean(arr)"
   ]
  },
  {
   "cell_type": "markdown",
   "id": "465c1fe1",
   "metadata": {},
   "source": [
    "# Var"
   ]
  },
  {
   "cell_type": "code",
   "execution_count": 7,
   "id": "e104f4b1",
   "metadata": {
    "ExecuteTime": {
     "end_time": "2023-11-03T16:30:55.033730Z",
     "start_time": "2023-11-03T16:30:55.031190Z"
    }
   },
   "outputs": [],
   "source": [
    "def custom_mean(x):\n",
    "    return np.sum(x)/x.size"
   ]
  },
  {
   "cell_type": "code",
   "execution_count": 8,
   "id": "026024ad",
   "metadata": {
    "ExecuteTime": {
     "end_time": "2023-11-03T16:30:55.039326Z",
     "start_time": "2023-11-03T16:30:55.035767Z"
    }
   },
   "outputs": [],
   "source": [
    "@timing_decorator\n",
    "def custom_var(x):\n",
    "    mean_x = custom_mean(x)\n",
    "    return custom_mean(x**2) - mean_x**2\n",
    "\n",
    "\n",
    "@timing_decorator\n",
    "def custom_var_2(x):\n",
    "    return custom_mean(x**2) - custom_mean(x)**2\n",
    "\n",
    "\n",
    "@timing_decorator\n",
    "def custom_var_3(x):\n",
    "    return custom_mean(np.square(x-custom_mean(x)))\n",
    "\n",
    "\n",
    "@timing_decorator\n",
    "def var(x):\n",
    "    return np.var(x)"
   ]
  },
  {
   "cell_type": "code",
   "execution_count": 9,
   "id": "6aa697c2",
   "metadata": {
    "ExecuteTime": {
     "end_time": "2023-11-03T16:30:55.043890Z",
     "start_time": "2023-11-03T16:30:55.040340Z"
    }
   },
   "outputs": [],
   "source": [
    "@timing_decorator\n",
    "def custom_var_optimized(x):\n",
    "    x_squared_sum = np.sum(x**2)\n",
    "    x_sum = np.sum(x)\n",
    "    x_size = x.size\n",
    "    return (x_squared_sum / x_size) - (x_sum / x_size)**2"
   ]
  },
  {
   "cell_type": "code",
   "execution_count": 10,
   "id": "37362b9f",
   "metadata": {
    "ExecuteTime": {
     "end_time": "2023-11-03T16:30:55.047956Z",
     "start_time": "2023-11-03T16:30:55.045412Z"
    }
   },
   "outputs": [],
   "source": [
    "@timing_decorator\n",
    "def custom_unbias_var_optimized(x):\n",
    "    x_squared_sum = np.sum(x**2)\n",
    "    x_sum = np.sum(x)\n",
    "    x_size = x.size-1\n",
    "    return (x_squared_sum / x_size) - (x_sum / x_size)**2"
   ]
  },
  {
   "cell_type": "code",
   "execution_count": 11,
   "id": "72a953a5",
   "metadata": {
    "ExecuteTime": {
     "end_time": "2023-11-03T16:30:55.697648Z",
     "start_time": "2023-11-03T16:30:55.049470Z"
    }
   },
   "outputs": [
    {
     "name": "stdout",
     "output_type": "stream",
     "text": [
      "Average execution time over 100000 iterations: 0.00000632 seconds\n"
     ]
    },
    {
     "data": {
      "text/plain": [
       "5.432098765432102"
      ]
     },
     "execution_count": 11,
     "metadata": {},
     "output_type": "execute_result"
    }
   ],
   "source": [
    "custom_unbias_var_optimized(arr)"
   ]
  },
  {
   "cell_type": "code",
   "execution_count": 12,
   "id": "db853171",
   "metadata": {
    "ExecuteTime": {
     "end_time": "2023-11-03T16:30:56.337382Z",
     "start_time": "2023-11-03T16:30:55.698668Z"
    },
    "scrolled": true
   },
   "outputs": [
    {
     "name": "stdout",
     "output_type": "stream",
     "text": [
      "Average execution time over 100000 iterations: 0.00000622 seconds\n"
     ]
    },
    {
     "data": {
      "text/plain": [
       "8.25"
      ]
     },
     "execution_count": 12,
     "metadata": {},
     "output_type": "execute_result"
    }
   ],
   "source": [
    "custom_var(arr)"
   ]
  },
  {
   "cell_type": "code",
   "execution_count": 13,
   "id": "255048dc",
   "metadata": {
    "ExecuteTime": {
     "end_time": "2023-11-03T16:30:56.963841Z",
     "start_time": "2023-11-03T16:30:56.338912Z"
    }
   },
   "outputs": [
    {
     "name": "stdout",
     "output_type": "stream",
     "text": [
      "Average execution time over 100000 iterations: 0.00000609 seconds\n"
     ]
    },
    {
     "data": {
      "text/plain": [
       "8.25"
      ]
     },
     "execution_count": 13,
     "metadata": {},
     "output_type": "execute_result"
    }
   ],
   "source": [
    "custom_var_optimized(arr)"
   ]
  },
  {
   "cell_type": "code",
   "execution_count": 14,
   "id": "4fb067ce",
   "metadata": {
    "ExecuteTime": {
     "end_time": "2023-11-03T16:30:57.613837Z",
     "start_time": "2023-11-03T16:30:56.965867Z"
    }
   },
   "outputs": [
    {
     "name": "stdout",
     "output_type": "stream",
     "text": [
      "Average execution time over 100000 iterations: 0.00000631 seconds\n"
     ]
    },
    {
     "data": {
      "text/plain": [
       "8.25"
      ]
     },
     "execution_count": 14,
     "metadata": {},
     "output_type": "execute_result"
    }
   ],
   "source": [
    "custom_var_2(arr)"
   ]
  },
  {
   "cell_type": "code",
   "execution_count": 15,
   "id": "4666a6e1",
   "metadata": {
    "ExecuteTime": {
     "end_time": "2023-11-03T16:30:58.476031Z",
     "start_time": "2023-11-03T16:30:57.614856Z"
    }
   },
   "outputs": [
    {
     "name": "stdout",
     "output_type": "stream",
     "text": [
      "Average execution time over 100000 iterations: 0.00000845 seconds\n"
     ]
    },
    {
     "data": {
      "text/plain": [
       "8.25"
      ]
     },
     "execution_count": 15,
     "metadata": {},
     "output_type": "execute_result"
    }
   ],
   "source": [
    "custom_var_3(arr)"
   ]
  },
  {
   "cell_type": "code",
   "execution_count": 16,
   "id": "9ed5c2ba",
   "metadata": {
    "ExecuteTime": {
     "end_time": "2023-11-03T16:31:00.054021Z",
     "start_time": "2023-11-03T16:30:58.477042Z"
    }
   },
   "outputs": [
    {
     "name": "stdout",
     "output_type": "stream",
     "text": [
      "Average execution time over 100000 iterations: 0.00001558 seconds\n"
     ]
    },
    {
     "data": {
      "text/plain": [
       "8.25"
      ]
     },
     "execution_count": 16,
     "metadata": {},
     "output_type": "execute_result"
    }
   ],
   "source": [
    "var(arr)"
   ]
  },
  {
   "cell_type": "markdown",
   "id": "b8b4b447",
   "metadata": {},
   "source": [
    "# Std"
   ]
  },
  {
   "cell_type": "code",
   "execution_count": 17,
   "id": "0879c0d6",
   "metadata": {
    "ExecuteTime": {
     "end_time": "2023-11-03T16:31:00.058086Z",
     "start_time": "2023-11-03T16:31:00.055036Z"
    }
   },
   "outputs": [],
   "source": [
    "def custom_var(x):\n",
    "    mean_x = custom_mean(x)\n",
    "    return custom_mean(x**2) - mean_x**2"
   ]
  },
  {
   "cell_type": "code",
   "execution_count": 18,
   "id": "64769158",
   "metadata": {
    "ExecuteTime": {
     "end_time": "2023-11-03T16:31:00.062148Z",
     "start_time": "2023-11-03T16:31:00.059607Z"
    }
   },
   "outputs": [],
   "source": [
    "@timing_decorator\n",
    "def custom_std(x):\n",
    "    return np.sqrt(custom_var(x))\n",
    "\n",
    "\n",
    "@timing_decorator\n",
    "def std(x):\n",
    "    return np.std(x)"
   ]
  },
  {
   "cell_type": "code",
   "execution_count": 19,
   "id": "24e12c92",
   "metadata": {
    "ExecuteTime": {
     "end_time": "2023-11-03T16:31:01.747101Z",
     "start_time": "2023-11-03T16:31:00.063676Z"
    }
   },
   "outputs": [
    {
     "name": "stdout",
     "output_type": "stream",
     "text": [
      "Average execution time over 100000 iterations: 0.00001662 seconds\n"
     ]
    },
    {
     "data": {
      "text/plain": [
       "2.8722813232690143"
      ]
     },
     "execution_count": 19,
     "metadata": {},
     "output_type": "execute_result"
    }
   ],
   "source": [
    "std(arr)"
   ]
  },
  {
   "cell_type": "code",
   "execution_count": 20,
   "id": "45bb61b8",
   "metadata": {
    "ExecuteTime": {
     "end_time": "2023-11-03T16:31:02.467990Z",
     "start_time": "2023-11-03T16:31:01.748120Z"
    }
   },
   "outputs": [
    {
     "name": "stdout",
     "output_type": "stream",
     "text": [
      "Average execution time over 100000 iterations: 0.00000704 seconds\n"
     ]
    },
    {
     "data": {
      "text/plain": [
       "2.8722813232690143"
      ]
     },
     "execution_count": 20,
     "metadata": {},
     "output_type": "execute_result"
    }
   ],
   "source": [
    "custom_std(arr)"
   ]
  },
  {
   "cell_type": "markdown",
   "id": "546d3f35",
   "metadata": {},
   "source": [
    "# Median"
   ]
  },
  {
   "cell_type": "code",
   "execution_count": 21,
   "id": "9134d374",
   "metadata": {
    "ExecuteTime": {
     "end_time": "2023-11-03T16:31:02.472566Z",
     "start_time": "2023-11-03T16:31:02.469008Z"
    }
   },
   "outputs": [],
   "source": [
    "@timing_decorator\n",
    "def custom_median(x):\n",
    "    x_sort = np.sort(x)\n",
    "    n = x.size\n",
    "    if n%2 == 1:\n",
    "        return x_sort[n//2]\n",
    "    else:\n",
    "        m1 = x_sort[n//2]\n",
    "        m2 = x_sort[n//2-1]\n",
    "        return (m1+m2)/2"
   ]
  },
  {
   "cell_type": "code",
   "execution_count": 22,
   "id": "f0485810",
   "metadata": {
    "ExecuteTime": {
     "end_time": "2023-11-03T16:31:02.476636Z",
     "start_time": "2023-11-03T16:31:02.474095Z"
    }
   },
   "outputs": [],
   "source": [
    "@timing_decorator\n",
    "def median(x):\n",
    "    return np.median(x)"
   ]
  },
  {
   "cell_type": "code",
   "execution_count": 23,
   "id": "91d532b1",
   "metadata": {
    "ExecuteTime": {
     "end_time": "2023-11-03T16:31:03.559969Z",
     "start_time": "2023-11-03T16:31:02.478151Z"
    }
   },
   "outputs": [
    {
     "name": "stdout",
     "output_type": "stream",
     "text": [
      "Average execution time over 100000 iterations: 0.00001064 seconds\n"
     ]
    },
    {
     "data": {
      "text/plain": [
       "5.5"
      ]
     },
     "execution_count": 23,
     "metadata": {},
     "output_type": "execute_result"
    }
   ],
   "source": [
    "median(arr)"
   ]
  },
  {
   "cell_type": "code",
   "execution_count": 24,
   "id": "ee5f3e6c",
   "metadata": {
    "ExecuteTime": {
     "end_time": "2023-11-03T16:31:03.726096Z",
     "start_time": "2023-11-03T16:31:03.560982Z"
    }
   },
   "outputs": [
    {
     "name": "stdout",
     "output_type": "stream",
     "text": [
      "Average execution time over 100000 iterations: 0.00000151 seconds\n"
     ]
    },
    {
     "data": {
      "text/plain": [
       "5.5"
      ]
     },
     "execution_count": 24,
     "metadata": {},
     "output_type": "execute_result"
    }
   ],
   "source": [
    "custom_median(arr)"
   ]
  },
  {
   "cell_type": "markdown",
   "id": "6f7ef8f1",
   "metadata": {},
   "source": [
    "# Mode"
   ]
  },
  {
   "cell_type": "code",
   "execution_count": 25,
   "id": "575f6fe6",
   "metadata": {
    "ExecuteTime": {
     "end_time": "2023-11-03T16:31:03.730663Z",
     "start_time": "2023-11-03T16:31:03.727621Z"
    }
   },
   "outputs": [],
   "source": [
    "@timing_decorator\n",
    "def custom_mode(x):\n",
    "\n",
    "    assert len(x.shape) == 1\n",
    "\n",
    "    counts = np.bincount(x)\n",
    "\n",
    "    mode_value = np.argmax(counts)\n",
    "\n",
    "    return mode_value"
   ]
  },
  {
   "cell_type": "code",
   "execution_count": 26,
   "id": "619deb89",
   "metadata": {
    "ExecuteTime": {
     "end_time": "2023-11-03T16:31:04.090603Z",
     "start_time": "2023-11-03T16:31:03.731682Z"
    }
   },
   "outputs": [],
   "source": [
    "from scipy import stats\n",
    "\n",
    "@timing_decorator\n",
    "def mode(x):\n",
    "    return stats.mode(x)"
   ]
  },
  {
   "cell_type": "code",
   "execution_count": 27,
   "id": "e849e74a",
   "metadata": {
    "ExecuteTime": {
     "end_time": "2023-11-03T16:31:24.137687Z",
     "start_time": "2023-11-03T16:31:04.093646Z"
    }
   },
   "outputs": [
    {
     "name": "stdout",
     "output_type": "stream",
     "text": [
      "Average execution time over 100000 iterations: 0.00019998 seconds\n"
     ]
    },
    {
     "data": {
      "text/plain": [
       "ModeResult(mode=1, count=1)"
      ]
     },
     "execution_count": 27,
     "metadata": {},
     "output_type": "execute_result"
    }
   ],
   "source": [
    "mode(arr)"
   ]
  },
  {
   "cell_type": "code",
   "execution_count": 28,
   "id": "2df679fd",
   "metadata": {
    "ExecuteTime": {
     "end_time": "2023-11-03T16:31:24.385091Z",
     "start_time": "2023-11-03T16:31:24.139210Z"
    }
   },
   "outputs": [
    {
     "name": "stdout",
     "output_type": "stream",
     "text": [
      "Average execution time over 100000 iterations: 0.00000231 seconds\n"
     ]
    },
    {
     "data": {
      "text/plain": [
       "1"
      ]
     },
     "execution_count": 28,
     "metadata": {},
     "output_type": "execute_result"
    }
   ],
   "source": [
    "custom_mode(arr)"
   ]
  },
  {
   "cell_type": "markdown",
   "id": "3d8ceb0a",
   "metadata": {},
   "source": [
    "# Percentile"
   ]
  },
  {
   "cell_type": "code",
   "execution_count": 29,
   "id": "91f47c86",
   "metadata": {
    "ExecuteTime": {
     "end_time": "2023-11-03T16:31:24.389663Z",
     "start_time": "2023-11-03T16:31:24.386109Z"
    }
   },
   "outputs": [],
   "source": [
    "# @timing_decorator\n",
    "def custom_percentile(x, percentile):\n",
    "    # Step 1: Sorting the data\n",
    "    x_sort = np.sort(x)  \n",
    "    \n",
    "    # Step 2: Finding the index of the percentile value\n",
    "    index = (percentile / 100) * (x_sort.size - 1)  \n",
    "    \n",
    "    # Step 3: Interpolating to get the percentile value\n",
    "    lower = np.floor(index).astype(int)  # Finding the lower index\n",
    "    upper = np.ceil(index).astype(int)   # Finding the upper index\n",
    "    if lower == upper:  # If index is an integer\n",
    "        return x_sort[lower]  # Return the value at index\n",
    "    else:\n",
    "        # Interpolate between the values at the lower and upper indices\n",
    "        return x_sort[lower] + (x_sort[upper] - x_sort[lower]) * (index - lower)\n"
   ]
  },
  {
   "cell_type": "code",
   "execution_count": 30,
   "id": "7f57124d",
   "metadata": {
    "ExecuteTime": {
     "end_time": "2023-11-03T16:31:24.394233Z",
     "start_time": "2023-11-03T16:31:24.391181Z"
    }
   },
   "outputs": [],
   "source": [
    "@timing_decorator\n",
    "def percentile(x, percentile):\n",
    "    return np.percentile(x, percentile)"
   ]
  },
  {
   "cell_type": "code",
   "execution_count": 31,
   "id": "7ea524fe",
   "metadata": {
    "ExecuteTime": {
     "end_time": "2023-11-03T16:31:24.399830Z",
     "start_time": "2023-11-03T16:31:24.395256Z"
    }
   },
   "outputs": [
    {
     "data": {
      "text/plain": [
       "2.8"
      ]
     },
     "execution_count": 31,
     "metadata": {},
     "output_type": "execute_result"
    }
   ],
   "source": [
    "custom_percentile(arr, percentile=20)"
   ]
  },
  {
   "cell_type": "code",
   "execution_count": 32,
   "id": "a13cbacd",
   "metadata": {
    "ExecuteTime": {
     "end_time": "2023-11-03T16:31:30.680441Z",
     "start_time": "2023-11-03T16:31:24.401357Z"
    }
   },
   "outputs": [
    {
     "name": "stdout",
     "output_type": "stream",
     "text": [
      "Average execution time over 100000 iterations: 0.00006251 seconds\n"
     ]
    },
    {
     "data": {
      "text/plain": [
       "2.8"
      ]
     },
     "execution_count": 32,
     "metadata": {},
     "output_type": "execute_result"
    }
   ],
   "source": [
    "percentile(arr, percentile=20)"
   ]
  },
  {
   "cell_type": "markdown",
   "id": "836a6095",
   "metadata": {},
   "source": [
    "# Covariance "
   ]
  },
  {
   "cell_type": "code",
   "execution_count": 33,
   "id": "24312e19",
   "metadata": {
    "ExecuteTime": {
     "end_time": "2023-11-03T16:31:30.685010Z",
     "start_time": "2023-11-03T16:31:30.681969Z"
    }
   },
   "outputs": [],
   "source": [
    "arr1 = np.array([1, 2, 3, 4, 5])\n",
    "arr2 = np.array([6, 7, 8, 9, 10])"
   ]
  },
  {
   "cell_type": "code",
   "execution_count": 34,
   "id": "1df23cda",
   "metadata": {
    "ExecuteTime": {
     "end_time": "2023-11-03T16:31:30.691623Z",
     "start_time": "2023-11-03T16:31:30.686543Z"
    }
   },
   "outputs": [],
   "source": [
    "def custom_mean(x):\n",
    "    return np.sum(x) / x.size\n",
    "\n",
    "def custom_var(x):\n",
    "    mean_x = custom_mean(x)\n",
    "    return np.sum((x - mean_x)**2) / (x.size - 1)\n",
    "@timing_decorator\n",
    "def custom_cov(x, y):\n",
    "    mean_x = custom_mean(x)\n",
    "    mean_y = custom_mean(y)\n",
    "    cov_xy = np.sum((x - mean_x) * (y - mean_y)) / (x.size - 1)\n",
    "    var_x = custom_var(x)\n",
    "    var_y = custom_var(y)\n",
    "    cov_matrix = np.array([[var_x, cov_xy], [cov_xy, var_y]])\n",
    "    return cov_matrix"
   ]
  },
  {
   "cell_type": "code",
   "execution_count": 35,
   "id": "e10df8fc",
   "metadata": {
    "ExecuteTime": {
     "end_time": "2023-11-03T16:31:30.695198Z",
     "start_time": "2023-11-03T16:31:30.693150Z"
    }
   },
   "outputs": [],
   "source": [
    "@timing_decorator\n",
    "def cov(x,y):\n",
    "    return np.cov(x ,y)"
   ]
  },
  {
   "cell_type": "code",
   "execution_count": 36,
   "id": "bedcdcc0",
   "metadata": {
    "ExecuteTime": {
     "end_time": "2023-11-03T16:31:33.504506Z",
     "start_time": "2023-11-03T16:31:30.696710Z"
    }
   },
   "outputs": [
    {
     "name": "stdout",
     "output_type": "stream",
     "text": [
      "Average execution time over 100000 iterations: 0.00002790 seconds\n"
     ]
    },
    {
     "data": {
      "text/plain": [
       "array([[2.5, 2.5],\n",
       "       [2.5, 2.5]])"
      ]
     },
     "execution_count": 36,
     "metadata": {},
     "output_type": "execute_result"
    }
   ],
   "source": [
    "custom_cov(arr1, arr2)"
   ]
  },
  {
   "cell_type": "code",
   "execution_count": 37,
   "id": "0b828f72",
   "metadata": {
    "ExecuteTime": {
     "end_time": "2023-11-03T16:31:36.799743Z",
     "start_time": "2023-11-03T16:31:33.505524Z"
    }
   },
   "outputs": [
    {
     "name": "stdout",
     "output_type": "stream",
     "text": [
      "Average execution time over 100000 iterations: 0.00003266 seconds\n"
     ]
    },
    {
     "data": {
      "text/plain": [
       "array([[2.5, 2.5],\n",
       "       [2.5, 2.5]])"
      ]
     },
     "execution_count": 37,
     "metadata": {},
     "output_type": "execute_result"
    }
   ],
   "source": [
    "cov(arr1, arr2)"
   ]
  }
 ],
 "metadata": {
  "hide_input": false,
  "kernelspec": {
   "display_name": "Python 3 (ipykernel)",
   "language": "python",
   "name": "python3"
  },
  "language_info": {
   "codemirror_mode": {
    "name": "ipython",
    "version": 3
   },
   "file_extension": ".py",
   "mimetype": "text/x-python",
   "name": "python",
   "nbconvert_exporter": "python",
   "pygments_lexer": "ipython3",
   "version": "3.11.5"
  },
  "toc": {
   "base_numbering": 1,
   "nav_menu": {},
   "number_sections": true,
   "sideBar": true,
   "skip_h1_title": false,
   "title_cell": "Table of Contents",
   "title_sidebar": "Contents",
   "toc_cell": false,
   "toc_position": {},
   "toc_section_display": true,
   "toc_window_display": false
  }
 },
 "nbformat": 4,
 "nbformat_minor": 5
}
